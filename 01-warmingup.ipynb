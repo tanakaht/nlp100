{
  "cells": [
    {
      "cell_type": "markdown",
      "metadata": {
        "pycharm": {}
      },
      "source": [
        "00. 文字列の逆順\n",
        "\n",
        "文字列\"stressed\"の文字を逆に（末尾から先頭に向かって）並べた文字列を得よ．\n"
      ]
    },
    {
      "cell_type": "code",
      "execution_count": 1,
      "metadata": {
        "pycharm": {
          "is_executing": false
        }
      },
      "outputs": [
        {
          "name": "stdout",
          "text": [
            "desserts\n"
          ],
          "output_type": "stream"
        }
      ],
      "source": "s0 \u003d \"stressed\"\ns0_rev \u003d s0[::-1]\nprint(s0_rev)"
    },
    {
      "cell_type": "markdown",
      "metadata": {
        "pycharm": {}
      },
      "source": [
        "01. 「パタトクカシーー」\n",
        "\n",
        "「パタトクカシーー」という文字列の1,3,5,7文字目を取り出して連結した文字列を得よ．"
      ]
    },
    {
      "cell_type": "code",
      "execution_count": 16,
      "metadata": {
        "pycharm": {}
      },
      "outputs": [
        {
          "name": "stdout",
          "output_type": "stream",
          "text": [
            "タクシー\n"
          ]
        }
      ],
      "source": [
        "s1 \u003d \u0027パタトクカシーー\u0027\n",
        "s1_odd \u003d s1[1::2]\n",
        "print(s1_odd)"
      ]
    },
    {
      "cell_type": "markdown",
      "metadata": {
        "pycharm": {}
      },
      "source": [
        "02. 「パトカー」＋「タクシー」＝「パタトクカシーー」\n",
        "\n",
        "「パトカー」＋「タクシー」の文字を先頭から交互に連結して文字列「パタトクカシーー」を得よ．"
      ]
    },
    {
      "cell_type": "code",
      "execution_count": 7,
      "metadata": {
        "pycharm": {}
      },
      "outputs": [
        {
          "name": "stdout",
          "output_type": "stream",
          "text": [
            "パタトクカシーー\n"
          ]
        }
      ],
      "source": [
        "パトカー \u003d \u0027パトカー\u0027\n",
        "タクシー \u003d \u0027タクシー\u0027\n",
        "パタトクカシーー \u003d \u0027\u0027\n",
        "for i, j in zip(パトカー, タクシー):\n",
        "    パタトクカシーー +\u003d i+j\n",
        "print(パタトクカシーー)"
      ]
    },
    {
      "cell_type": "markdown",
      "metadata": {
        "pycharm": {}
      },
      "source": [
        "03. 円周率\n",
        "\n",
        "\"Now I need a drink, alcoholic of course, after the heavy lectures involving quantum mechanics.\"という文を単語に分解し，各単語の（アルファベットの）文字数を先頭から出現順に並べたリストを作成せよ．\n",
        "\n"
      ]
    },
    {
      "cell_type": "code",
      "execution_count": 15,
      "metadata": {
        "pycharm": {}
      },
      "outputs": [
        {
          "name": "stdout",
          "output_type": "stream",
          "text": [
            "[(3, \u0027Now\u0027), (1, \u0027I\u0027), (4, \u0027need\u0027), (1, \u0027a\u0027), (5, \u0027drink\u0027), (9, \u0027alcoholic\u0027), (2, \u0027of\u0027), (6, \u0027course\u0027), (5, \u0027after\u0027), (3, \u0027the\u0027), (5, \u0027heavy\u0027), (8, \u0027lectures\u0027), (9, \u0027involving\u0027), (7, \u0027quantum\u0027), (9, \u0027mechanics\u0027)]\n"
          ]
        }
      ],
      "source": [
        "s3 \u003d \"Now I need a drink, alcoholic of course, after the heavy lectures involving quantum mechanics.\"\n",
        "s3 \u003d s3.replace(\u0027.\u0027,\u0027\u0027).replace(\u0027,\u0027,\u0027\u0027)\n",
        "s3_words \u003d s3.split(\u0027 \u0027)\n",
        "s3_word_length \u003d [len(word) for word in s3_words]\n",
        "print(list(zip(s3_word_length, s3_words)))"
      ]
    },
    {
      "cell_type": "markdown",
      "metadata": {
        "pycharm": {}
      },
      "source": [
        "04. 元素記号\n",
        "\n",
        "\"Hi He Lied Because Boron Could Not Oxidize Fluorine. New Nations Might Also Sign Peace Security Clause. Arthur King Can.\"という文を単語に分解し，1, 5, 6, 7, 8, 9, 15, 16, 19番目の単語は先頭の1文字，それ以外の単語は先頭に2文字を取り出し，取り出した文字列から単語の位置（先頭から何番目の単語か）への連想配列（辞書型もしくはマップ型）を作成せよ．"
      ]
    },
    {
      "cell_type": "code",
      "execution_count": 53,
      "metadata": {
        "pycharm": {}
      },
      "outputs": [
        {
          "name": "stdout",
          "output_type": "stream",
          "text": [
            "{\u0027H\u0027: 1, \u0027He\u0027: 2, \u0027Li\u0027: 3, \u0027Be\u0027: 4, \u0027B\u0027: 5, \u0027C\u0027: 6, \u0027N\u0027: 7, \u0027O\u0027: 8, \u0027F\u0027: 9, \u0027Ne\u0027: 10, \u0027Na\u0027: 11, \u0027Mi\u0027: 12, \u0027Al\u0027: 13, \u0027Si\u0027: 14, \u0027P\u0027: 15, \u0027S\u0027: 16, \u0027Cl\u0027: 17, \u0027Ar\u0027: 18, \u0027K\u0027: 19, \u0027Ca\u0027: 20}\n"
          ]
        }
      ],
      "source": [
        "s4 \u003d \"Hi He Lied Because Boron Could Not Oxidize Fluorine. New Nations Might Also Sign Peace Security Clause. Arthur King Can.\"\n",
        "s4 \u003d s4.replace(\u0027.\u0027,\u0027\u0027).replace(\u0027,\u0027,\u0027\u0027)\n",
        "s4_words \u003d s4.split(\u0027 \u0027)\n",
        "d \u003d {i: 2 for i in range(1, len(s4_words)+1)}\n",
        "for i in [1, 5, 6, 7, 8, 9, 15, 16, 19]:\n",
        "    d[i] \u003d 1\n",
        "atom_dict4 \u003d {s4_words[i-1][:d[i]]: i for i in range(1, len(s4_words)+1)}\n",
        "print(atom_dict4)"
      ]
    },
    {
      "cell_type": "markdown",
      "metadata": {
        "pycharm": {}
      },
      "source": [
        "05. n-gram\n",
        "\n",
        "与えられたシーケンス（文字列やリストなど）からn-gramを作る関数を作成せよ．この関数を用い，\"I am an NLPer\"という文から単語bi-gram，文字bi-gramを得よ．"
      ]
    },
    {
      "cell_type": "code",
      "execution_count": 24,
      "metadata": {
        "pycharm": {}
      },
      "outputs": [
        {
          "name": "stdout",
          "output_type": "stream",
          "text": [
            "[(\u0027I\u0027, \u0027am\u0027), (\u0027am\u0027, \u0027an\u0027), (\u0027an\u0027, \u0027NLPer\u0027)]\n",
            "[(\u0027I\u0027, \u0027 \u0027), (\u0027 \u0027, \u0027a\u0027), (\u0027a\u0027, \u0027m\u0027), (\u0027m\u0027, \u0027 \u0027), (\u0027 \u0027, \u0027a\u0027), (\u0027a\u0027, \u0027n\u0027), (\u0027n\u0027, \u0027 \u0027), (\u0027 \u0027, \u0027N\u0027), (\u0027N\u0027, \u0027L\u0027), (\u0027L\u0027, \u0027P\u0027), (\u0027P\u0027, \u0027e\u0027), (\u0027e\u0027, \u0027r\u0027)]\n"
          ]
        }
      ],
      "source": [
        "def ngram(s, n):\n",
        "    l \u003d []\n",
        "    for i in range(len(s)-n+1):\n",
        "        l.append(tuple(s[i:i+n]))\n",
        "    return l\n",
        "\n",
        "print(ngram(\"I am an NLPer\".split(\u0027 \u0027), 2))\n",
        "print(ngram(\"I am an NLPer\", 2))"
      ]
    },
    {
      "cell_type": "markdown",
      "metadata": {
        "pycharm": {}
      },
      "source": [
        "\n",
        "06. 集合\n",
        "\n",
        "\"paraparaparadise\"と\"paragraph\"に含まれる文字bi-gramの集合を，それぞれ, XとYとして求め，XとYの和集合，積集合，差集合を求めよ．さらに，\u0027se\u0027というbi-gramがXおよびYに含まれるかどうかを調べよ．\n",
        "\n"
      ]
    },
    {
      "cell_type": "code",
      "execution_count": 30,
      "metadata": {
        "pycharm": {}
      },
      "outputs": [
        {
          "name": "stdout",
          "output_type": "stream",
          "text": [
            "{(\u0027a\u0027, \u0027r\u0027), (\u0027p\u0027, \u0027a\u0027), (\u0027d\u0027, \u0027i\u0027), (\u0027a\u0027, \u0027d\u0027), (\u0027r\u0027, \u0027a\u0027), (\u0027i\u0027, \u0027s\u0027), (\u0027g\u0027, \u0027r\u0027), (\u0027p\u0027, \u0027h\u0027), (\u0027a\u0027, \u0027p\u0027), (\u0027s\u0027, \u0027e\u0027), (\u0027a\u0027, \u0027g\u0027)}\n",
            "{(\u0027a\u0027, \u0027p\u0027), (\u0027a\u0027, \u0027r\u0027), (\u0027p\u0027, \u0027a\u0027), (\u0027r\u0027, \u0027a\u0027)}\n",
            "{(\u0027a\u0027, \u0027d\u0027), (\u0027i\u0027, \u0027s\u0027), (\u0027s\u0027, \u0027e\u0027), (\u0027d\u0027, \u0027i\u0027)}\n",
            "\u0027se\u0027 in X:True\n",
            "\u0027se\u0027 in Y:False\n"
          ]
        }
      ],
      "source": [
        "parapara \u003d \"paraparaparadise\"\n",
        "paragraph \u003d \"paragraph\"\n",
        "X \u003d set(ngram(parapara, 2))\n",
        "Y \u003d set(ngram(paragraph, 2))\n",
        "print(X.union(Y))\n",
        "print(X.intersection(Y))\n",
        "print(X.difference(Y))\n",
        "print(\"\u0027se\u0027 in X:{}\\n\u0027se\u0027 in Y:{}\".format((\u0027s\u0027, \u0027e\u0027) in X, (\u0027s\u0027, \u0027e\u0027) in Y))"
      ]
    },
    {
      "cell_type": "markdown",
      "metadata": {
        "pycharm": {}
      },
      "source": [
        "07. テンプレートによる文生成\n",
        "\n",
        "引数x, y, zを受け取り「x時のyはz」という文字列を返す関数を実装せよ．さらに，x\u003d12, y\u003d\"気温\", z\u003d22.4として，実行結果を確認せよ．\n"
      ]
    },
    {
      "cell_type": "code",
      "execution_count": 31,
      "metadata": {
        "pycharm": {}
      },
      "outputs": [
        {
          "data": {
            "text/plain": [
              "\u002712時の気温は22.4\u0027"
            ]
          },
          "execution_count": 31,
          "metadata": {},
          "output_type": "execute_result"
        }
      ],
      "source": [
        "def x時のyはz(x, y, z):\n",
        "    return \u0027{}時の{}は{}\u0027.format(x, y, z)\n",
        "\n",
        "x時のyはz(x\u003d12, y\u003d\"気温\", z\u003d22.4)"
      ]
    },
    {
      "cell_type": "markdown",
      "metadata": {
        "pycharm": {}
      },
      "source": [
        "08. 暗号文\n",
        "\n",
        "与えられた文字列の各文字を，以下の仕様で変換する関数cipherを実装せよ．\n",
        "英小文字ならば(219 - 文字コード)の文字に置換\n",
        "その他の文字はそのまま出力\n",
        "この関数を用い，英語のメッセージを暗号化・復号化せよ．\n"
      ]
    },
    {
      "cell_type": "code",
      "execution_count": 45,
      "metadata": {
        "pycharm": {}
      },
      "outputs": [
        {
          "name": "stdout",
          "output_type": "stream",
          "text": [
            "I\u0027n hl szkkb\n",
            "I\u0027m so happy\n"
          ]
        }
      ],
      "source": [
        "def cipher(s):\n",
        "    return \u0027\u0027.join(chr(219-ord(c)) if (ord(\u0027a\u0027) \u003c\u003d ord(c) and ord(c) \u003c\u003d ord(\u0027z\u0027))  else c  for c in s)\n",
        "\n",
        "print(cipher(\"I\u0027m so happy\"))\n",
        "print(cipher(cipher(\"I\u0027m so happy\")))"
      ]
    },
    {
      "cell_type": "markdown",
      "metadata": {
        "pycharm": {}
      },
      "source": [
        "09. Typoglycemia\n",
        "\n",
        "スペースで区切られた単語列に対して，各単語の先頭と末尾の文字は残し，それ以外の文字の順序をランダムに並び替えるプログラムを作成せよ．ただし，長さが４以下の単語は並び替えないこととする．適当な英語の文（例えば\"I couldn\u0027t believe that I could actually understand what I was reading : the phenomenal power of the human mind .\"）を与え，その実行結果を確認せよ．"
      ]
    },
    {
      "cell_type": "code",
      "execution_count": 52,
      "metadata": {
        "pycharm": {}
      },
      "outputs": [
        {
          "name": "stdout",
          "output_type": "stream",
          "text": [
            "I co\u0027dunlt bveilee that I could aulltacy undetrasnd what I was rndaieg : the panmhoenel pewor of the huamn mind .\n"
          ]
        }
      ],
      "source": [
        "import random\n",
        "\n",
        "def change_word(word):\n",
        "    if len(word) \u003c 4:\n",
        "        return word\n",
        "    else:\n",
        "        return word[0] + \u0027\u0027.join(random.sample(word[1:-1], len(word)-2)) + word [-1]\n",
        "def change_str(s):\n",
        "    return \u0027 \u0027.join([change_word(word) for word in s.split(\u0027 \u0027)])\n",
        "\n",
        "print(change_str(\"I couldn\u0027t believe that I could actually understand what I was reading : the phenomenal power of the human mind .\"))"
      ]
    }
  ],
  "metadata": {
    "kernelspec": {
      "display_name": "Python 3",
      "language": "python",
      "name": "python3"
    },
    "language_info": {
      "codemirror_mode": {
        "name": "ipython",
        "version": 3
      },
      "file_extension": ".py",
      "mimetype": "text/x-python",
      "name": "python",
      "nbconvert_exporter": "python",
      "pygments_lexer": "ipython3",
      "version": "3.7.1"
    }
  },
  "nbformat": 4,
  "nbformat_minor": 2
}