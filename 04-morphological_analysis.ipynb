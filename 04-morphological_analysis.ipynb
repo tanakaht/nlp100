{
 "cells": [
  {
   "cell_type": "markdown",
   "metadata": {
    "pycharm": {
     "metadata": false,
     "name": "#%% md\n"
    }
   },
   "source": [
    "夏目漱石の小説『吾輩は猫である』の文章（neko.txt）をMeCabを使って形態素解析し，その結果をneko.txt.mecabというファイルに保存せよ．このファイルを用いて，以下の問に対応するプログラムを実装せよ．\n",
    "\n",
    "なお，問題37, 38, 39はmatplotlibもしくはGnuplotを用いるとよい．\n",
    "\n",
    "前準備\n",
    "```\n",
    "brew install mecab mecab-ipadic\n",
    "cd {このファイルの場所}/data/04-morpheme_analysis\n",
    "mecab neko.txt > neko.txt.mecab\n",
    "```"
   ]
  },
  {
   "cell_type": "markdown",
   "metadata": {
    "pycharm": {
     "metadata": false,
     "name": "#%% md\n"
    }
   },
   "source": []
  },
  {
   "cell_type": "markdown",
   "metadata": {
    "pycharm": {
     "metadata": false,
     "name": "#%% md\n"
    }
   },
   "source": [
    "30. 形態素解析結果の読み込み\n",
    "形態素解析結果（neko.txt.mecab）を読み込むプログラムを実装せよ．ただし，各形態素は表層形（surface），基本形（base），品詞（pos），品詞細分類1（pos1）をキーとするマッピング型に格納し，1文を形態素（マッピング型）のリストとして表現せよ．第4章の残りの問題では，ここで作ったプログラムを活用せよ．"
   ]
  },
  {
   "cell_type": "markdown",
   "metadata": {
    "pycharm": {
     "metadata": false,
     "name": "#%% md\n"
    }
   },
   "source": [
    "mecabの出力\n",
    "\n",
    "- 表層形\\t品詞,品詞細分類1,品詞細分類2,品詞細分類3,活用型,活用形,原形,読み,発音\n",
    "- EOS"
   ]
  },
  {
   "cell_type": "code",
   "execution_count": 2,
   "metadata": {
    "pycharm": {
     "is_executing": false,
     "metadata": false,
     "name": "#%%\n"
    }
   },
   "outputs": [
    {
     "name": "stdout",
     "output_type": "stream",
     "text": [
      "0 {'surface': '吾輩', 'base': '吾輩', 'pos': '名詞', 'pos1': '代名詞'}\n",
      "1 {'surface': 'は', 'base': 'は', 'pos': '助詞', 'pos1': '係助詞'}\n",
      "2 {'surface': '猫', 'base': '猫', 'pos': '名詞', 'pos1': '一般'}\n",
      "3 {'surface': 'で', 'base': 'だ', 'pos': '助動詞', 'pos1': '*'}\n",
      "4 {'surface': 'ある', 'base': 'ある', 'pos': '助動詞', 'pos1': '*'}\n",
      "5 {'surface': '。', 'base': '。', 'pos': '記号', 'pos1': '句点'}\n",
      "6 {'surface': '名前', 'base': '名前', 'pos': '名詞', 'pos1': '一般'}\n",
      "7 {'surface': 'は', 'base': 'は', 'pos': '助詞', 'pos1': '係助詞'}\n",
      "8 {'surface': 'まだ', 'base': 'まだ', 'pos': '副詞', 'pos1': '助詞類接続'}\n",
      "9 {'surface': '無い', 'base': '無い', 'pos': '形容詞', 'pos1': '自立'}\n",
      "10 {'surface': '。', 'base': '。', 'pos': '記号', 'pos1': '句点'}\n"
     ]
    }
   ],
   "source": [
    "def mor_res():\n",
    "    with open('./data/04-morphological_analysis/neko.txt.mecab', 'r') as f:\n",
    "        for line in f:\n",
    "            col = line.split('\\t')\n",
    "            if len(col) != 2:\n",
    "                continue\n",
    "            tags = col[1].split(',')\n",
    "            res = {\n",
    "                'surface': col[0],\n",
    "                'base': tags[6],\n",
    "                'pos': tags[0],\n",
    "                'pos1': tags[1]\n",
    "            }\n",
    "            yield res\n",
    "\n",
    "for i, mor in enumerate(mor_res()):\n",
    "    print(i, mor)\n",
    "    if i == 10:\n",
    "        break"
   ]
  },
  {
   "cell_type": "markdown",
   "metadata": {
    "pycharm": {
     "metadata": false,
     "name": "#%% md\n"
    }
   },
   "source": [
    "31. 動詞\n",
    "動詞の表層形をすべて抽出せよ．\n"
   ]
  },
  {
   "cell_type": "code",
   "execution_count": 3,
   "metadata": {
    "pycharm": {
     "is_executing": false,
     "metadata": false,
     "name": "#%%\n"
    }
   },
   "outputs": [
    {
     "name": "stdout",
     "output_type": "stream",
     "text": [
      "生れ\n",
      "つか\n",
      "し\n",
      "泣い\n",
      "し\n",
      "いる\n",
      "始め\n",
      "見\n",
      "聞く\n",
      "捕え\n",
      "煮\n",
      "['生れ', 'つか', 'し', '泣い', 'し', 'いる', '始め', '見', '聞く', '捕え']\n"
     ]
    }
   ],
   "source": [
    "def verb_surfaces_gen():\n",
    "    for mor in mor_res():\n",
    "        if mor['pos'] == '動詞':\n",
    "            yield mor['surface']\n",
    "\n",
    "for i, mor in enumerate(verb_surfaces_gen()):\n",
    "    print(mor)\n",
    "    if i == 10:\n",
    "        break\n",
    "# listで一気に\n",
    "verb_surfaces = [mor['surface'] for mor in mor_res() if mor['pos'] == '動詞']\n",
    "print(verb_surfaces[:10])"
   ]
  },
  {
   "cell_type": "markdown",
   "metadata": {
    "pycharm": {
     "metadata": false,
     "name": "#%% md\n"
    }
   },
   "source": [
    "32. 動詞の原形\n",
    "動詞の原形をすべて抽出せよ．\n"
   ]
  },
  {
   "cell_type": "code",
   "execution_count": 4,
   "metadata": {
    "pycharm": {
     "is_executing": false,
     "metadata": false,
     "name": "#%%\n"
    }
   },
   "outputs": [
    {
     "name": "stdout",
     "output_type": "stream",
     "text": [
      "生れる\n",
      "つく\n",
      "する\n",
      "泣く\n",
      "する\n",
      "いる\n",
      "始める\n",
      "見る\n",
      "聞く\n",
      "捕える\n",
      "煮る\n",
      "['生れる', 'つく', 'する', '泣く', 'する', 'いる', '始める', '見る', '聞く', '捕える']\n"
     ]
    }
   ],
   "source": [
    "def verb_base_gen():\n",
    "    for mor in mor_res():\n",
    "        if mor['pos'] == '動詞':\n",
    "            yield mor['base']\n",
    "\n",
    "for i, mor in enumerate(verb_base_gen()):\n",
    "    print(mor)\n",
    "    if i == 10:\n",
    "        break\n",
    "\n",
    "# list\n",
    "verb_bases = [mor['base'] for mor in mor_res() if mor['pos'] == '動詞']\n",
    "print(verb_bases[:10])\n"
   ]
  },
  {
   "cell_type": "markdown",
   "metadata": {
    "pycharm": {
     "metadata": false,
     "name": "#%% md\n"
    }
   },
   "source": [
    "33. サ変名詞\n",
    "サ変接続の名詞をすべて抽出せよ．\n"
   ]
  },
  {
   "cell_type": "code",
   "execution_count": 5,
   "metadata": {
    "pycharm": {
     "is_executing": false,
     "metadata": false,
     "name": "#%%\n"
    }
   },
   "outputs": [
    {
     "name": "stdout",
     "output_type": "stream",
     "text": [
      "見当\n",
      "記憶\n",
      "話\n",
      "装飾\n",
      "突起\n",
      "運転\n",
      "記憶\n",
      "分別\n",
      "決心\n",
      "我慢\n",
      "餓死\n",
      "['見当', '記憶', '話', '装飾', '突起', '運転', '記憶', '分別', '決心', '我慢']\n"
     ]
    }
   ],
   "source": [
    "def sahen_gen():\n",
    "    for mor in mor_res():\n",
    "        if mor['pos1'] == 'サ変接続' and mor['pos'] == '名詞':\n",
    "            yield mor['surface']\n",
    "\n",
    "for i, mor in enumerate(sahen_gen()):\n",
    "    print(mor)\n",
    "    if i == 10:\n",
    "        break\n",
    "\n",
    "# list\n",
    "sahen = [mor['base'] for mor in mor_res() if mor['pos1'] == 'サ変接続' and mor['pos'] == '名詞']\n",
    "print(sahen[:10])\n"
   ]
  },
  {
   "cell_type": "markdown",
   "metadata": {
    "pycharm": {
     "metadata": false
    }
   },
   "source": [
    "34. 「AのB」\n",
    "2つの名詞が「の」で連結されている名詞句を抽出せよ．\n"
   ]
  },
  {
   "cell_type": "code",
   "execution_count": 8,
   "metadata": {
    "pycharm": {
     "is_executing": false,
     "metadata": false,
     "name": "#%%\n"
    }
   },
   "outputs": [
    {
     "name": "stdout",
     "output_type": "stream",
     "text": [
      "彼の掌\n",
      "掌の上\n",
      "書生の顔\n",
      "はずの顔\n",
      "顔の真中\n",
      "穴の中\n",
      "書生の掌\n",
      "掌の裏\n",
      "何の事\n",
      "肝心の母親\n",
      "藁の上\n"
     ]
    }
   ],
   "source": [
    "\n",
    "def a_of_b_gen():\n",
    "    state = 0\n",
    "    A = ''\n",
    "    for mor in mor_res():\n",
    "        if state == 0:\n",
    "            if mor['pos'] == '名詞':\n",
    "                state = 1\n",
    "                A = mor['surface']\n",
    "        elif state == 1:\n",
    "            if mor['surface'] == 'の':\n",
    "                state = 2\n",
    "            elif mor['pos'] == '名詞':\n",
    "                state = 1\n",
    "                A = mor['surface']\n",
    "            else:\n",
    "                state = 0\n",
    "        elif state == 2:\n",
    "            if mor['pos'] == '名詞':\n",
    "                state = 1\n",
    "                yield f\"{A}の{mor['surface']}\"\n",
    "                A = mor['surface']\n",
    "            else:\n",
    "                state = 0\n",
    "\n",
    "for i, a_of_b in enumerate(a_of_b_gen()):\n",
    "    print(a_of_b)\n",
    "    if i == 10:\n",
    "        break\n",
    "    "
   ]
  },
  {
   "cell_type": "markdown",
   "metadata": {
    "pycharm": {
     "metadata": false
    }
   },
   "source": [
    "34-2. 「AのBのCの...」\n",
    "名詞が「の」で連結されている名詞句を最長一致で抽出せよ．\n"
   ]
  },
  {
   "cell_type": "code",
   "execution_count": 10,
   "metadata": {
    "pycharm": {
     "is_executing": false,
     "metadata": false,
     "name": "#%%\n"
    }
   },
   "outputs": [
    {
     "name": "stdout",
     "output_type": "stream",
     "text": [
      "新道の二絃琴の師匠の所の三\n"
     ]
    }
   ],
   "source": [
    "def a_of_b_of_c_gen():\n",
    "    state = 0\n",
    "    text = ''\n",
    "    count = 0\n",
    "    for mor in mor_res():\n",
    "        if state == 0:\n",
    "            if mor['pos'] == '名詞':\n",
    "                state = 1\n",
    "                text = mor['surface']\n",
    "                count = 0\n",
    "        elif state == 1:\n",
    "            if mor['surface'] == 'の':\n",
    "                state = 2\n",
    "                text += 'の'\n",
    "                count += 1\n",
    "            elif mor['pos'] == '名詞':\n",
    "                state = 1\n",
    "                text = mor['surface']\n",
    "            else:\n",
    "                state = 0\n",
    "        elif state == 2:\n",
    "            if mor['pos'] == '名詞':\n",
    "                state = 3\n",
    "                text += mor['surface']\n",
    "            else:\n",
    "                state = 0\n",
    "        elif state == 3:\n",
    "            if mor['surface'] == 'の':\n",
    "                state = 4\n",
    "                text += 'の'\n",
    "                count += 1\n",
    "            elif mor['pos'] == '名詞':\n",
    "                state = 1\n",
    "                yield count, text\n",
    "                text = mor['surface']\n",
    "                count = 0\n",
    "            else:\n",
    "                state = 0\n",
    "                yield count, text\n",
    "                count = 0\n",
    "        elif state == 4:\n",
    "            if mor['pos'] == '名詞':\n",
    "                state = 3\n",
    "                text += mor['surface']\n",
    "            else:\n",
    "                state = 0\n",
    "                yield count, text\n",
    "\n",
    "\n",
    "for count, a_of_b_of_c in a_of_b_of_c_gen():\n",
    "    if count > 3:\n",
    "        print(a_of_b_of_c)\n",
    "\n"
   ]
  },
  {
   "cell_type": "code",
   "execution_count": 11,
   "metadata": {
    "pycharm": {
     "is_executing": false,
     "metadata": false,
     "name": "#%% \n"
    }
   },
   "outputs": [
    {
     "name": "stdout",
     "output_type": "stream",
     "text": [
      "新道.の.二絃琴.の.師匠.の.所.の.三\n"
     ]
    }
   ],
   "source": [
    "# reを使う\n",
    "import re\n",
    "\n",
    "def mor2char(mor):\n",
    "    return 'N' if mor['pos'] == '名詞' else 'o' if mor['surface'] == 'の' else ' '\n",
    "mor_str = ''.join(map(mor2char, mor_res()))\n",
    "sentence_surface = list(map(lambda mor: mor['surface'], mor_res()))\n",
    "\n",
    "def a_of_b_of_c_re(mor_s, sentence):\n",
    "    NofN = re.compile('N(oN)+')\n",
    "    for m in re.finditer(NofN, mor_s):\n",
    "        yield '.'.join(sentence[m.start(): m.end()])\n",
    "\n",
    "for a_of_b_of_c in a_of_b_of_c_re(mor_str, sentence_surface):\n",
    "    if len(a_of_b_of_c.split('の.')) > 4:\n",
    "        print(a_of_b_of_c)\n",
    "    "
   ]
  },
  {
   "cell_type": "markdown",
   "metadata": {
    "pycharm": {
     "metadata": false
    }
   },
   "source": [
    "35. 名詞の連接\n",
    "名詞の連接（連続して出現する名詞）を最長一致で抽出せよ．\n"
   ]
  },
  {
   "cell_type": "code",
   "execution_count": 12,
   "metadata": {
    "pycharm": {
     "is_executing": false,
     "metadata": false,
     "name": "#%%\n"
    }
   },
   "outputs": [
    {
     "name": "stdout",
     "output_type": "stream",
     "text": [
      "2 人間.中\n",
      "3 四.五.遍\n",
      "4 我.等.猫.族\n",
      "5 壱.円.五.十.銭\n",
      "6 一.杯.一.杯.一.杯\n",
      "7 三毛.子.さん.三.毛.子.さん\n",
      "10 many.a.slip.'.twixt.the.cup.and.the.lip\n",
      "9 八.万.八.千.八.百.八.十.本\n",
      "8 明治.十.一.年.九月.廿.八.日\n"
     ]
    }
   ],
   "source": [
    "def cont_noun_gen():\n",
    "    state = 0\n",
    "    cont_noun = ''\n",
    "    count = 0\n",
    "    for mor in mor_res():\n",
    "        if state == 0:\n",
    "            if mor['pos'] == '名詞':\n",
    "                state = 1\n",
    "                cont_noun = mor['surface']\n",
    "                count += 1\n",
    "        elif state == 1:\n",
    "            if mor['pos'] == '名詞':\n",
    "                state = 2\n",
    "                cont_noun += '.' + mor['surface']\n",
    "                count += 1\n",
    "            else:\n",
    "                state = 0\n",
    "                count = 0\n",
    "        elif state == 2:\n",
    "            if mor['pos'] == '名詞':\n",
    "                state = 2\n",
    "                cont_noun += '.' + mor['surface']\n",
    "                count += 1\n",
    "            else:\n",
    "                state = 0\n",
    "                yield  (count, cont_noun)\n",
    "                count = 0\n",
    "\n",
    "counts = set()\n",
    "for count, cont_noun in cont_noun_gen():\n",
    "    if count not in counts:\n",
    "        print(count, cont_noun)\n",
    "        counts.add(count)\n"
   ]
  },
  {
   "cell_type": "markdown",
   "metadata": {
    "pycharm": {
     "metadata": false
    }
   },
   "source": [
    "36. 単語の出現頻度\n",
    "文章中に出現する単語とその出現頻度を求め，出現頻度の高い順に並べよ．\n"
   ]
  },
  {
   "cell_type": "code",
   "execution_count": 14,
   "metadata": {
    "pycharm": {
     "is_executing": false,
     "metadata": false,
     "name": "#%%\n"
    }
   },
   "outputs": [
    {
     "name": "stdout",
     "output_type": "stream",
     "text": [
      "[('の', 9194), ('。', 7486), ('て', 6868), ('、', 6772), ('は', 6420), ('に', 6243), ('を', 6071), ('と', 5508), ('が', 5337), ('た', 3988)]\n"
     ]
    }
   ],
   "source": [
    "word_dict = {}\n",
    "for mor in mor_res():\n",
    "    word_dict.setdefault(mor['surface'], 0)\n",
    "    word_dict[mor['surface']] += 1\n",
    "word_sorted = sorted(word_dict.items(), key=lambda x: -x[1])\n",
    "print(word_sorted[:10])\n"
   ]
  },
  {
   "cell_type": "markdown",
   "metadata": {
    "pycharm": {
     "metadata": false
    }
   },
   "source": [
    "37. 頻度上位10語\n",
    "出現頻度が高い10語とその出現頻度をグラフ（例えば棒グラフなど）で表示せよ．\n"
   ]
  },
  {
   "cell_type": "markdown",
   "metadata": {
    "pycharm": {
     "metadata": false,
     "name": "#%% md\n"
    }
   },
   "source": [
    "デフォルトでmatplotlibは日本語を表示できないので、[ここ](https://qiita.com/segavvy/items/72863888e51fabd79295)を参考にした\n"
   ]
  },
  {
   "cell_type": "code",
   "execution_count": 16,
   "metadata": {
    "pycharm": {
     "is_executing": false,
     "metadata": false,
     "name": "#%%\n"
    }
   },
   "outputs": [
    {
     "data": {
      "image/png": "[encoded data removed]",
      "text/plain": [
       "<Figure size 432x288 with 1 Axes>"
      ]
     },
     "metadata": {
      "needs_background": "light"
     },
     "output_type": "display_data"
    }
   ],
   "source": [
    "import matplotlib.pyplot as plt\n",
    "\n",
    "font = {\"family\":\"AppleGothic\"}\n",
    "plt.rc('font', **font)\n",
    "words_10 = list(map(lambda x: x[0], word_sorted[:10]))\n",
    "freqs_10 = list(map(lambda x: x[1], word_sorted[:10]))\n",
    "\n",
    "plt.bar(range(0, 10), freqs_10, align='center')\n",
    "\n",
    "# x軸のラベルの指定\n",
    "plt.xticks(range(0, 10), words_10)\n",
    "plt.show()\n",
    "\n"
   ]
  },
  {
   "cell_type": "markdown",
   "metadata": {
    "pycharm": {
     "metadata": false
    }
   },
   "source": [
    "38. ヒストグラム\n",
    "単語の出現頻度のヒストグラム（横軸に出現頻度，縦軸に出現頻度をとる単語の種類数を棒グラフで表したもの）を描け．\n"
   ]
  },
  {
   "cell_type": "code",
   "execution_count": 17,
   "metadata": {
    "pycharm": {
     "is_executing": false,
     "metadata": false,
     "name": "#%%\n"
    }
   },
   "outputs": [
    {
     "data": {
      "image/png": "[encoded data removed]",
      "text/plain": [
       "<Figure size 432x288 with 1 Axes>"
      ]
     },
     "metadata": {
      "needs_background": "light"
     },
     "output_type": "display_data"
    }
   ],
   "source": [
    "freqs = [x[1] for x in word_sorted if x[1]]\n",
    "plt.hist(freqs, bins=50)\n",
    "plt.show()\n"
   ]
  },
  {
   "cell_type": "markdown",
   "metadata": {
    "pycharm": {
     "metadata": false,
     "name": "#%% md\n"
    }
   },
   "source": [
    "39. Zipfの法則\n",
    "単語の出現頻度順位を横軸，その出現頻度を縦軸として，両対数グラフをプロットせよ．\n"
   ]
  },
  {
   "cell_type": "code",
   "execution_count": 18,
   "metadata": {
    "pycharm": {
     "is_executing": false,
     "metadata": false,
     "name": "#%%\n"
    }
   },
   "outputs": [
    {
     "data": {
      "image/png": "[encoded data removed]",
      "text/plain": [
       "<Figure size 432x288 with 1 Axes>"
      ]
     },
     "metadata": {
      "needs_background": "light"
     },
     "output_type": "display_data"
    }
   ],
   "source": [
    "freq2num_type = {}\n",
    "plt.scatter(range(1, len(freqs)+1), freqs, s=1)\n",
    "plt.xscale('log')\n",
    "plt.yscale('log')\n",
    "plt.show()\n"
   ]
  },
  {
   "cell_type": "code",
   "execution_count": null,
   "metadata": {
    "pycharm": {
     "metadata": false,
     "name": "#%%\n"
    }
   },
   "outputs": [],
   "source": [
    "\n"
   ]
  }
 ],
 "metadata": {
  "kernelspec": {
   "display_name": "Python 3",
   "language": "python",
   "name": "python3"
  },
  "language_info": {
   "codemirror_mode": {
    "name": "ipython",
    "version": 3
   },
   "file_extension": ".py",
   "mimetype": "text/x-python",
   "name": "python",
   "nbconvert_exporter": "python",
   "pygments_lexer": "ipython3",
   "version": "3.7.3"
  },
  "stem_cell": {
   "cell_type": "raw",
   "metadata": {
    "pycharm": {
     "metadata": false
    }
   },
   "source": ""
  }
 },
 "nbformat": 4,
 "nbformat_minor": 1
}
