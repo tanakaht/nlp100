{
  "cells": [
    {
      "cell_type": "markdown",
      "source": "夏目漱石の小説『吾輩は猫である』の文章（neko.txt）をMeCabを使って形態素解析し，その結果をneko.txt.mecabというファイルに保存せよ．このファイルを用いて，以下の問に対応するプログラムを実装せよ．\n\nなお，問題37, 38, 39はmatplotlibもしくはGnuplotを用いるとよい．\n\n前準備\n```\nbrew install mecab mecab-ipadic\ncd {このファイルの場所}/data/04-morpheme_analysis\nmecab neko.txt \u003e neko.txt.mecab\n```",
      "metadata": {
        "pycharm": {
          "metadata": false,
          "name": "#%% md\n"
        }
      }
    },
    {
      "cell_type": "markdown",
      "source": "",
      "metadata": {
        "pycharm": {
          "metadata": false,
          "name": "#%% md\n"
        }
      }
    },
    {
      "cell_type": "markdown",
      "source": "30. 形態素解析結果の読み込み\n形態素解析結果（neko.txt.mecab）を読み込むプログラムを実装せよ．ただし，各形態素は表層形（surface），基本形（base），品詞（pos），品詞細分類1（pos1）をキーとするマッピング型に格納し，1文を形態素（マッピング型）のリストとして表現せよ．第4章の残りの問題では，ここで作ったプログラムを活用せよ．",
      "metadata": {
        "pycharm": {
          "metadata": false,
          "name": "#%% md\n"
        }
      }
    },
    {
      "cell_type": "markdown",
      "source": "mecabの出力\n\n- 表層形\\t品詞,品詞細分類1,品詞細分類2,品詞細分類3,活用型,活用形,原形,読み,発音\n- EOS",
      "metadata": {
        "pycharm": {
          "metadata": false,
          "name": "#%% md\n"
        }
      }
    },
    {
      "cell_type": "code",
      "execution_count": 27,
      "outputs": [
        {
          "name": "stdout",
          "text": [
            "0 {\u0027surface\u0027: \u0027吾輩\u0027, \u0027base\u0027: \u0027吾輩\u0027, \u0027pos\u0027: \u0027名詞\u0027, \u0027pos1\u0027: \u0027代名詞\u0027}\n1 {\u0027surface\u0027: \u0027は\u0027, \u0027base\u0027: \u0027は\u0027, \u0027pos\u0027: \u0027助詞\u0027, \u0027pos1\u0027: \u0027係助詞\u0027}\n2 {\u0027surface\u0027: \u0027猫\u0027, \u0027base\u0027: \u0027猫\u0027, \u0027pos\u0027: \u0027名詞\u0027, \u0027pos1\u0027: \u0027一般\u0027}\n3 {\u0027surface\u0027: \u0027で\u0027, \u0027base\u0027: \u0027だ\u0027, \u0027pos\u0027: \u0027助動詞\u0027, \u0027pos1\u0027: \u0027*\u0027}\n4 {\u0027surface\u0027: \u0027ある\u0027, \u0027base\u0027: \u0027ある\u0027, \u0027pos\u0027: \u0027助動詞\u0027, \u0027pos1\u0027: \u0027*\u0027}\n5 {\u0027surface\u0027: \u0027。\u0027, \u0027base\u0027: \u0027。\u0027, \u0027pos\u0027: \u0027記号\u0027, \u0027pos1\u0027: \u0027句点\u0027}\n6 {\u0027surface\u0027: \u0027名前\u0027, \u0027base\u0027: \u0027名前\u0027, \u0027pos\u0027: \u0027名詞\u0027, \u0027pos1\u0027: \u0027一般\u0027}\n7 {\u0027surface\u0027: \u0027は\u0027, \u0027base\u0027: \u0027は\u0027, \u0027pos\u0027: \u0027助詞\u0027, \u0027pos1\u0027: \u0027係助詞\u0027}\n8 {\u0027surface\u0027: \u0027まだ\u0027, \u0027base\u0027: \u0027まだ\u0027, \u0027pos\u0027: \u0027副詞\u0027, \u0027pos1\u0027: \u0027助詞類接続\u0027}\n9 {\u0027surface\u0027: \u0027無い\u0027, \u0027base\u0027: \u0027無い\u0027, \u0027pos\u0027: \u0027形容詞\u0027, \u0027pos1\u0027: \u0027自立\u0027}\n10 {\u0027surface\u0027: \u0027。\u0027, \u0027base\u0027: \u0027。\u0027, \u0027pos\u0027: \u0027記号\u0027, \u0027pos1\u0027: \u0027句点\u0027}\n"
          ],
          "output_type": "stream"
        }
      ],
      "source": "def mor_res():\n    with open(\u0027./data/04-morphological_analysis/neko.txt.mecab\u0027, \u0027r\u0027) as f:\n        for line in f.readlines():\n            col \u003d line.split(\u0027\\t\u0027)\n            if len(col) !\u003d 2:\n                continue\n            tags \u003d col[1].split(\u0027,\u0027)\n            res \u003d {\n                \u0027surface\u0027: col[0],\n                \u0027base\u0027: tags[6],\n                \u0027pos\u0027: tags[0],\n                \u0027pos1\u0027: tags[1]\n            }\n            yield res\n\nfor i, mor in enumerate(mor_res()):\n    print(i, mor)\n    if i \u003d\u003d 10:\n        break",
      "metadata": {
        "pycharm": {
          "metadata": false,
          "name": "#%%\n",
          "is_executing": false
        }
      }
    },
    {
      "cell_type": "markdown",
      "source": "31. 動詞\n動詞の表層形をすべて抽出せよ．\n",
      "metadata": {
        "pycharm": {
          "metadata": false,
          "name": "#%% md\n"
        }
      }
    },
    {
      "cell_type": "code",
      "execution_count": 28,
      "outputs": [
        {
          "name": "stdout",
          "text": [
            "生れ\nつか\nし\n泣い\nし\nいる\n始め\n見\n聞く\n捕え\n煮\n",
            "[\u0027生れ\u0027, \u0027つか\u0027, \u0027し\u0027, \u0027泣い\u0027, \u0027し\u0027, \u0027いる\u0027, \u0027始め\u0027, \u0027見\u0027, \u0027聞く\u0027, \u0027捕え\u0027]\n"
          ],
          "output_type": "stream"
        }
      ],
      "source": "# generator\ndef verb_surfaces_gen():\n    for mor in mor_res():\n        if mor[\u0027pos\u0027] \u003d\u003d \u0027動詞\u0027:\n            yield mor[\u0027surface\u0027]\n\nfor i, mor in enumerate(verb_surfaces_gen()):\n    print(mor)\n    if i \u003d\u003d 10:\n        break\n# list\nverb_surfaces \u003d [mor[\u0027surface\u0027] for mor in mor_res() if mor[\u0027pos\u0027] \u003d\u003d \u0027動詞\u0027]\nprint(verb_surfaces[:10])",
      "metadata": {
        "pycharm": {
          "metadata": false,
          "name": "#%%\n",
          "is_executing": false
        }
      }
    },
    {
      "cell_type": "markdown",
      "source": "32. 動詞の原形\n動詞の原形をすべて抽出せよ．\n",
      "metadata": {
        "pycharm": {
          "metadata": false,
          "name": "#%% md\n"
        }
      }
    },
    {
      "cell_type": "code",
      "execution_count": 29,
      "outputs": [
        {
          "name": "stdout",
          "text": [
            "[\u0027生れる\u0027, \u0027つく\u0027, \u0027する\u0027, \u0027泣く\u0027, \u0027する\u0027, \u0027いる\u0027, \u0027始める\u0027, \u0027見る\u0027, \u0027聞く\u0027, \u0027捕える\u0027]\n"
          ],
          "output_type": "stream"
        }
      ],
      "source": "# listバージョンのみ\nverb_bases \u003d [mor[\u0027base\u0027] for mor in mor_res() if mor[\u0027pos\u0027] \u003d\u003d \u0027動詞\u0027]\nprint(verb_bases[:10])\n",
      "metadata": {
        "pycharm": {
          "metadata": false,
          "name": "#%%\n",
          "is_executing": false
        }
      }
    },
    {
      "cell_type": "markdown",
      "source": "33. サ変名詞\nサ変接続の名詞をすべて抽出せよ．\n",
      "metadata": {
        "pycharm": {
          "metadata": false,
          "name": "#%% md\n"
        }
      }
    },
    {
      "cell_type": "code",
      "source": "# listバージョンのみ\nsahen \u003d [mor[\u0027base\u0027] for mor in mor_res() if mor[\u0027pos1\u0027] \u003d\u003d \u0027サ変接続\u0027]\nprint(sahen[:10])\n",
      "metadata": {
        "pycharm": {
          "metadata": false,
          "name": "#%%\n",
          "is_executing": false
        }
      },
      "execution_count": 30,
      "outputs": [
        {
          "name": "stdout",
          "text": [
            "[\u0027見当\u0027, \u0027記憶\u0027, \u0027話\u0027, \u0027装飾\u0027, \u0027突起\u0027, \u0027運転\u0027, \u0027記憶\u0027, \u0027分別\u0027, \u0027決心\u0027, \u0027我慢\u0027]\n"
          ],
          "output_type": "stream"
        }
      ]
    },
    {
      "cell_type": "markdown",
      "source": "34. 「AのB」\n2つの名詞が「の」で連結されている名詞句を抽出せよ．\n",
      "metadata": {
        "pycharm": {
          "metadata": false
        }
      }
    },
    {
      "cell_type": "code",
      "execution_count": 31,
      "outputs": [
        {
          "name": "stdout",
          "text": [
            "彼の掌\n掌の上\n書生の顔\nはずの顔\n顔の真中\n穴の中\n書生の掌\n何の事\n肝心の母親\n藁の上\n笹原の中\n"
          ],
          "output_type": "stream"
        }
      ],
      "source": "def a_of_b_gen():\n    state \u003d 0\n    A \u003d \u0027\u0027\n    for mor in mor_res():\n        if state \u003d\u003d 0:\n            if mor[\u0027pos\u0027] \u003d\u003d \u0027名詞\u0027:\n                state \u003d 1\n                A \u003d mor[\u0027surface\u0027]\n        elif state \u003d\u003d 1:\n            if mor[\u0027surface\u0027] \u003d\u003d \u0027の\u0027:\n                state \u003d 2\n            elif mor[\u0027pos\u0027] \u003d\u003d \u0027名詞\u0027:\n                state \u003d 1\n                A \u003d mor[\u0027surface\u0027]\n            else:\n                state \u003d 0\n        elif state \u003d\u003d 2:\n            if mor[\u0027pos\u0027] \u003d\u003d \u0027名詞\u0027:\n                state \u003d 0\n                yield f\"{A}の{mor[\u0027surface\u0027]}\"\n            else:\n                state \u003d 0\n\nfor i, a_of_b in enumerate(a_of_b_gen()):\n    print(a_of_b)\n    if i \u003d\u003d 10:\n        break\n",
      "metadata": {
        "pycharm": {
          "metadata": false,
          "name": "#%%\n",
          "is_executing": false
        }
      }
    },
    {
      "cell_type": "markdown",
      "source": "35. 名詞の連接\n名詞の連接（連続して出現する名詞）を最長一致で抽出せよ．\n",
      "metadata": {
        "pycharm": {
          "metadata": false
        }
      }
    },
    {
      "cell_type": "code",
      "execution_count": 32,
      "outputs": [
        {
          "name": "stdout",
          "text": [
            "人間中\n一番獰悪\n時妙\n一毛\nその後猫\n一度\nぷうぷうと煙\n邸内\n三毛\n書生以外\n四五遍\n"
          ],
          "output_type": "stream"
        }
      ],
      "source": "def cont_noun_gen():\n    state \u003d 0\n    cont_noun \u003d \u0027\u0027\n    for mor in mor_res():\n        if state \u003d\u003d 0:\n            if mor[\u0027pos\u0027] \u003d\u003d \u0027名詞\u0027:\n                state \u003d 1\n                cont_noun \u003d mor[\u0027surface\u0027]\n        elif state \u003d\u003d 1:\n            if mor[\u0027pos\u0027] \u003d\u003d \u0027名詞\u0027:\n                state \u003d 2\n                cont_noun +\u003d mor[\u0027surface\u0027]\n            else:\n                state \u003d 0\n        elif state \u003d\u003d 2:\n            if mor[\u0027pos\u0027] \u003d\u003d \u0027名詞\u0027:\n                state \u003d 2\n                cont_noun +\u003d mor[\u0027surface\u0027]\n            else:\n                state \u003d 0        \n                yield  cont_noun\n\nfor i, cont_noun in enumerate(cont_noun_gen()):\n    print(cont_noun)\n    if i \u003d\u003d 10:\n        break\n",
      "metadata": {
        "pycharm": {
          "metadata": false,
          "name": "#%%\n",
          "is_executing": false
        }
      }
    },
    {
      "cell_type": "markdown",
      "source": "36. 単語の出現頻度\n文章中に出現する単語とその出現頻度を求め，出現頻度の高い順に並べよ．\n",
      "metadata": {
        "pycharm": {
          "metadata": false
        }
      }
    },
    {
      "cell_type": "code",
      "execution_count": 33,
      "outputs": [
        {
          "name": "stdout",
          "text": [
            "[(\u0027の\u0027, 9194), (\u0027。\u0027, 7486), (\u0027て\u0027, 6848), (\u0027、\u0027, 6772), (\u0027は\u0027, 6420), (\u0027に\u0027, 6243), (\u0027を\u0027, 6071), (\u0027だ\u0027, 5975), (\u0027と\u0027, 5508), (\u0027が\u0027, 5337)]\n"
          ],
          "output_type": "stream"
        }
      ],
      "source": "word_dict \u003d {}\nfor mor in mor_res():\n    word_dict.setdefault(mor[\u0027base\u0027], 0)\n    word_dict[mor[\u0027base\u0027]] +\u003d 1\nword_sorted \u003d sorted(word_dict.items(), key\u003dlambda x: -x[1])\nprint(word_sorted[:10])\n",
      "metadata": {
        "pycharm": {
          "metadata": false,
          "name": "#%%\n",
          "is_executing": false
        }
      }
    },
    {
      "cell_type": "markdown",
      "source": "37. 頻度上位10語\n出現頻度が高い10語とその出現頻度をグラフ（例えば棒グラフなど）で表示せよ．\n",
      "metadata": {
        "pycharm": {
          "metadata": false
        }
      }
    },
    {
      "cell_type": "markdown",
      "source": "デフォルトでmatplotlibは日本語を表示できないので、[ここ](https://qiita.com/segavvy/items/72863888e51fabd79295)を参考にした\n",
      "metadata": {
        "pycharm": {
          "metadata": false,
          "name": "#%% md\n"
        }
      }
    },
    {
      "cell_type": "code",
      "execution_count": 34,
      "outputs": [
        {
          "data": {
            "text/plain": "\u003cFigure size 432x288 with 1 Axes\u003e",
            "image/png": "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\u003d\u003d\n"
          },
          "metadata": {
            "needs_background": "light"
          },
          "output_type": "display_data"
        }
      ],
      "source": "import matplotlib.pyplot as plt\n\nYuGothic \u003d \u0027/System/Library/Assets/com_apple_MobileAsset_Font5/b29a08c200199f76b7cb065b1c5b9058cfbb65f0.asset/AssetData/YuGothic-Medium.otf\u0027\nfont \u003d {\"family\":\"AppleGothic\"}\nplt.rc(\u0027font\u0027, **font)\nwords_10 \u003d list(map(lambda x: x[0], word_sorted[:10]))\nfreqs_10 \u003d list(map(lambda x: x[1], word_sorted[:10]))\n\nplt.bar(range(0, 10), freqs_10, align\u003d\u0027center\u0027)\n\n# x軸のラベルの指定\nplt.xticks(range(0, 10), words_10)\nplt.show()\n\n",
      "metadata": {
        "pycharm": {
          "metadata": false,
          "name": "#%%\n",
          "is_executing": false
        }
      }
    },
    {
      "cell_type": "markdown",
      "source": "38. ヒストグラム\n単語の出現頻度のヒストグラム（横軸に出現頻度，縦軸に出現頻度をとる単語の種類数を棒グラフで表したもの）を描け．\n",
      "metadata": {
        "pycharm": {
          "metadata": false
        }
      }
    },
    {
      "cell_type": "code",
      "execution_count": 35,
      "outputs": [
        {
          "data": {
            "text/plain": "\u003cFigure size 432x288 with 1 Axes\u003e",
            "image/png": "[encoded data removed]"
          },
          "metadata": {
            "needs_background": "light"
          },
          "output_type": "display_data"
        }
      ],
      "source": "freqs \u003d list(map(lambda x: x[1], word_sorted))\nplt.hist(freqs, bins\u003d50)\nplt.show()\n",
      "metadata": {
        "pycharm": {
          "metadata": false,
          "name": "#%%\n",
          "is_executing": false
        }
      }
    },
    {
      "cell_type": "markdown",
      "source": "39. Zipfの法則\n単語の出現頻度順位を横軸，その出現頻度を縦軸として，両対数グラフをプロットせよ．\n",
      "metadata": {
        "pycharm": {
          "metadata": false,
          "name": "#%% md\n"
        }
      }
    },
    {
      "cell_type": "code",
      "execution_count": 36,
      "outputs": [
        {
          "data": {
            "text/plain": "\u003cFigure size 432x288 with 1 Axes\u003e",
            "image/png": "iVBORw0KGgoAAAANSUhEUgAAAXsAAAEACAYAAABS29YJAAAABHNCSVQICAgIfAhkiAAAAAlwSFlzAAALEgAACxIB0t1+/AAAADl0RVh0U29mdHdhcmUAbWF0cGxvdGxpYiB2ZXJzaW9uIDMuMC4zLCBodHRwOi8vbWF0cGxvdGxpYi5vcmcvnQurowAAGfVJREFUeJzt3X+UVeV97/H3F3AUhjgwONLFBB0yk8DCSiieCEpAvMHaK6W5ScXWNlFwKcFauYq1YXq1oYmJNFeSpeYWpHovxpuYG2xzsyixXWBMMB2Zy+AyP6RS+TGI2OjAAMYBHJDv/WPOGWfO/Dq/995nf15rseQ8e59zvmznfM4zz372s83dERGR8jYs6AJERKT4FPYiIjGgsBcRiQGFvYhIDCjsRURiQGEvIhIDCnsRkRhQ2IuIxIDCXkQkBkYEXUDKBRdc4HV1dUGXISISKTt37jzs7jVD7ReasK+rq6OlpSXoMkREIsXMDmSyn4ZxRERiQGEvIhIDRQ17M/uomV1ezPcQEZGhFS3szWwY8BeAwl5EJGBZhb2ZNZrZsh6Px5vZs2bWbGZbzGxCj91vBb5TqEJFRCR3GYW9mdWa2XZgRdqmNcAqd58JNAIPJff/GHAKeL2AtYqISI4yCnt3P+Tus4B7U21mNgYY5+7NyX1agKpk+7VALXA7cI2ZXdrf65rZUjNrMbOWtra2PP8pIiIykHzG7CcBe9La9gGT3P1Rd38QWAtscfdf9vcC7r7e3RPunqipGfKagAG1d3Ty2E/30t7RmfNriIiUs3zC3oD+bmDb3ebure7+rUFfxGyhma0/fvx4zoVsbDnIg8++ysaWgzm/hohIOcvnCtpWoCGtrT7ZnjF33wRsSiQSt+VayKLExF7/FRGR3nLu2bt7O3DCzGYAmNk04LC7HytUcZmqrqzgC1fVU11ZUeq3FhGJhHzXxrkLeMLMRgPHgSXZvoCZLQQWNjSk/5IQvPaOTja2HGRRYqK+SEQk0rIKe3ffkPb4Dbpm3uSsEMM4xZI6FwDwhavqA65GRCR3WhtnEIsSE2n8z1OyOheQ6cwgzSASkVIKPOwLMRunWHI5F5DpzKDB9tMXgYgUWuDr2Yd5GCcXmc4MGmy/gYaPdA5BRHIVeNiXm9RvA/nsN9AXQX9fAulfAPpCEJH+BB72YZ6NE5SBvgj6+xJI/wLQSWUR6Y+593cRbOklEgnXbQmzN1TPXj1/kfJmZjvdPTHUfoGfoJX8pJ9ETn+cfiJYS0uIxFPgwzhSXOlDP1paQiSeAh/G6TFmf9trr70WaC0iIlETmWEcd9/k7kurqqqCLkVEpGwFHvYSHF28JRIfCvsY08lakfjQCdoY08lakfgIvGcf5rVxyp3uAyASH4GHvU7QhoPG70XKW+BhL+Gg8XuR8qYxewE+GLefP3U8j/10b/djLa0gUh4U9gJ8MH7/2E/3di+kBmhRNZEyobCXXvqbodOzt68evkg0BT5mr9k44dJzhk7q71t3vaXxfJGIC7xnX253qipHmo8vEn2Bh72EX6Z33xKR8Ap8GEeiQ3PxRaJLPXvJWGou/onOM4yqGKETtiIRorCXjKXG7E90vq8pmSIRo7CXjKXG7ts7OhlVMVxTMkUiRGEvWUu/AOtE55nkFuPmK+sU/CIhpLCXnPUc1nn4ua5bSo6qGK6hHZEQCjzse9yDNuhSJEs9h3XAAdNcfJGQCvyG4ymJRMJbWlqCLkPy1N7RqcXTREooMjccl/KipZJFwinwYRwpL1paQSSc1LOXgqqurGBRYiIbWw6yt+1dXXErEhLq2UvBpYZytu87wvO72wBdfCUSNIW9FFzPu15N+/AhTnS+T3tHp07YigRIwzhScKkpmfU1oxlVMYKHn3tNJ2xFAqaevRSVTtiKhIPCXopKa+GLhIPCXkqivaOTJ5v2o/VzRIJRtLBPLoMwBxgObHX3Z4v1XhJ+G1sO8vBzewBoaW0nUVet0BcpoWL27JuT95fFzB4GFPYxtigxkROdZ9h54Bg/23OYf917RIumiZRQ1mFvZo3AUXdfl3w8HtgAVAPvADe7+5vu/nZy+0hAV9XEXHVlBXdfM7l7OOdk51lNyRQpoYzD3sxqgX8A6oH7e2xaA6xy92YzSwAPAX+SfM6dwFXAMwWrWCItFfqptfC7VsuEk51nGVkxXEM7IkWScdi7+yFglpktBs4DMLMxwDh3b07u02JmVWY2xt2PufujwKNm9ijwvfTXNLOlwFKAiy66KO9/jERHf2vhA/zijWOsuWG6Al+kwPIds58E7Elr2wdMSg7fXAWcC7zS35PdfT2wHrqWOM6zFomQ9LXwT3aeZdd/vMPzu9vY2HJQY/kiBZZv2Bup38N7c3dvApqGfAHdvCTWUsM60HstfBEprHyXS2gF0lO6PtmeEXff5O5Lq6qq8ixFoi7V29cQjkjh5RX27t4OnDCzGQBmNg047O7HClGciIgURiHm2d8FPGFmo4HjwJJsnqxhHBGR4tM9aCVUdA9bkexE5h60ZrbQzNYfP3486FIkBFI3Plm0rom9be8GXY5I2VDPXkKlvaMzGfQd1I0bxe9O/S1dbCUyiMj07EV6qq6sYP1NCeprKmk9coL1L+zj4ede457vv6x72YrkQWEvoVNfM5qNy67kv36qgaVzPsInGy7g+d1tCnyRPAS+nr1m40h/0i+2uvO7L/H87jaebNrf3S4imQu8Z6+LqmQo1ZUVJOqqAdi+r52vbf43vrnl39XLF8lC4D17kUzcfGUdv3jjGM/vbqN5fzuA1sMXyYLCXiKhurKCNTdM58mm/RztOM3ut37DkY5OrYcvkqHAh3E0z14ylRrHrx07kub97azfto87v/uShnREMqB59hI5qbtdpW5xCPDJhnE8cuMM9fIldjTPXspWqof/yI2/wycbxgHwsz1HeLJpf8CViYSXwl4iq7qygkdunNEd+C+8dpjPPd6sZRZE+qGwl0hLBf7Vk2t46fWuYZ0H/mlX0GWJhE7gYa8TtJKv1EydpXMmMXNSNR8d/yGdsBVJE3jY66IqKYTqygr+asFU/tOUC1m/bR8bWw4GXZJIqAQe9iKFNH/qeGbXj2Nv27savxfpQRdVSVnZuust/nXvke7Hi9Y1sXHZldTXjA6wKpHgKeylrCxKTORE5xmOdpxm0y/epL3jNJ/5u59RV13JyIoRfO2zlyr4JZZ0UZWUrb1t77JoXRPtHae728aMGsENiYtYdlW9LsCSshCZi6o0G0eKJbUu/uV1Y5lWez5VI0dw7MQZ1m/bx/KnX9KMHYkV9ewlNva2vcst/2sHB9pPADBx7Eg23HK5hnUk0iLTsxcplfqa0fzgjtnUjRsFwMGjJ3Vjc4kNhb3ESnVlBU8s/gSX142lauQI2jtOs+Dhbfz1//2VhnWkrGkYR2Jrb9u7/P4jL3Dy9FkAJlSdx+9/fIJO3kqkaBhHZAj1NaP5zq2zGHlO18fgzeOnWL9tH+t+sifgykQKT2EvsTbj4rH80/I5XF43lvPP67rs5KntB3jpwNGAKxMpLIW9xF59zWi+v+xKfnDHbEaeM4yTp89yw2MvKvClrCjsRZJSwzojhhlnzjp/uLaJ2aufU+hLWQg87HVRlYTJjIvH8v0vXMGIYYYDh46d4k8f367pmRJ5gYe9ljiWsEkF/oSq86gYbpw8fZYFD7+gHr5EWuBhLxJGMy4eS1Pjp1g8exIAp86c5Q/XNvGXz/xc8/ElkhT2IoNYdlU9N826iGEGDny/5Q1NzZRIUtiLDKK6soIv/5dL+Z83f4IRwwyAx1/Yzx9862cax5dIUdiLZGDelAv5l7vnMmKYcRb4xRvHmb/mp8x6ULN1JBoU9iIZqq8ZzeM3JTh3RFcP34FfHz/F9eua+MmrbwdbnMgQFPYiWZg35UJebJzPDZfVcs7wrtA/63DLkzvUw5dQU9iLZKm6soKvL5pO8191hb7RFfjq4UuYKexFcpQK/c/PuhjoCvwlG3Yo8CWUFPYiebrrmo8xrfZ8oGscf/GGHVz+1a0a1pFQKUrYm9l5ZvZNM7vfzNaYmb5UpGxVV1aw4ZaZ3HBZbXfb2795j8+ubdJsHQmNoty8xMws+dpnzewu4B/d/fXBnqObl0g52PTyIZZ/72XSP1U1oyt47PMJZlw8NpC6pHwV5eYlZtZoZst6PB5vZs+aWbOZbTGzCQDe5ayZjQNmAAez/QeIRNHC6bVsvecqLp3wIZLXYAHQ9m4nn13bxO1PtWi5BQlERmFvZrVmth1YkbZpDbDK3WcCjcBDPZ4zFXgAWOFhufehSAnU14xm0/K5bFlxFR+tGdVr27OvvMWMr2xR6EvJZRT27n7I3WcB96bazGwMMM7dm5P7tABVZjbGzEYBtwN/7u6HB3pdM1tqZi1m1tLW1pbXP0QkbOprRrPlnqt57p7+Q/9zj29X4EvJ5HPidBKQviLUvmT7TGA00Ghm95nZR/p7AXdf7+4Jd0/U1NTkUYpIeKVCf8PiTzDynA/ad/3Hb5jz9R/rBK6URD5hb9DnPBR0Ddk/7+5L3P2B5J99A76Ibl4iMTFvyoX821cW8OgfT+9u63jvfY3lS0nkE/atQENaW32yPWO6eYnEzcLptb0CH7qGdWZ+basuyJKiyTns3b0dOGFmMwDMbBpw2N2PZfM66tlLHC2cXttnWOf0+87iDTt4uvlAcIVJ2cpqnr2ZLQbOc/d1yccfBp6ga3z+OLDE3d/KpRDNs5e4err5AI0/+FWvtlHnDOPv/vQy5k25MKCqJCoynWdflIuqcqGwlzh76cBR/uixFzl9tvfnccX8BpbPnxxQVRIFRbmoqhg0jCPSdc/bf757Lh8ZN7JX+ze27uHzmqIpBaCevUjI/OTVt/nCUzt47/0P2uqqR/KPd3yS6sqK4AqTUIpMz15Eeps35UJ2f3UBK+Z/MNmttf0kl39Vs3Ukdwp7kZBaPn9yr8A/c7Zrts7f/mhXgFVJVAUe9hqzFxnY8vmTue+6Kb3a1m7bz5T7nlUvX7ISeNjroiqRwd06t77PRVinzpzlz767I6CKJIoCD3sRGdrC6bW8dP81zKwb0912ohP18CVjCnuRiKiurOD/LJvNpz8+obvt1JmzLN6wg5XPvBxgZRIFgYe9xuxFsvOlP7iEGRPP79X2vZZDTGrcrKUWZECaZy8SUY9v28sDP3q1T/voc4fz7Vtm6haIMaF59iJl7ta59bSuXsAfJ2p7tb+bXDb58W17A6pMwkhhLxJxq6+f3me2DsADP3qVupWbWfXDXwZQlYRN4GGvMXuR/C2cXkvr6gUsvuKiPts2vPg6k1ZqPD/uAg97zbMXKZxVn760316+Q59llCVedIJWpEz95NW3WbJhR597hxrwtc/8NjfOvDiIsqTAdIJWJObmTbmQ/at7L6gGH/TyN718KJjCJBAKe5Eyt3z+ZObWV/dpv/N7LzP3b5/TWvkxobAXiYFv33YFrasXcPvcSb3aXz96is+tbwqoKiklhb1IjHzxuql85uO/1att11sd1K3cTH3jZq2zU8YCD3tNvRQprW/eeBmtqxdQMdx6tb/vsHjDDgV+mQo87DX1UiQY6z/f/wQO3SClPAUe9iISjHlTLqR19QJaVy/ocwJ37bb9PLJ1d0CVSTEo7EWEb992BVf0WCsf4Btb91C3cjOf+u8/DqgqKSSFvYgA8PSy2X0WVQPYe+QkdSs3q6cfcQp7Eem2+vrpfWbrpHxj6x7+7CndCjGqtFyCiPSrvaOTq7++lePv9c6IS8ZXsvnuecEUJX1ouQQRyUt1ZQU//5vr+ozlv5Kcl3/30zsDqkxyEXjYa569SLgNNJb/g5//OoBqJFeBh73m2YuE30A3SJm0UlfdRkXgYS8i0ZC6QUpPTtdFWAr98FPYi0hW5k++oE9bKvSv/OqW0hckGVHYi0hWHl8yk9bVC5jwoYo+2978TSd1KzdrimYIKexFJCdN/+0aWlcvYHzlOX22/egVDemEjcJeRPLSfP/vct91U/q0a6mFcNFFVSJSMHUrNw+47fa5k/jidVNLWE086KIqESm5S8ZXDrht7bb9JaxE0insRaRgNt89j9bVC/qdsQNdPf+b/v7FElcloGEcESmywYZ2VsxvYPn8ySWspvyEahjHzK42s77ztESk7FWdawNu++bWPSWsJN6KHvZm9mng64DCXiSGfv4319G6egE1o0b02eZ09fwbBun9S2H0PfoZMLNG4Ki7r0s+Hg9sAKqBd4Cb3f1NAHf/oZn9TmHKFZGo2vHX13b/PX1o50ypi4mhrMLezGqBfwDqgft7bFoDrHL3ZjNLAA8Bf1KwKkWkrFQAnWltqS+AxMTzeeaOOSWvqdxlNYzj7ofcfRZwb6rNzMYA49y9OblPC1CVbB+UmS01sxYza2lra8uydBGJqn9P3ui8Py0H3ylxNfFQiDH7SUD6WZZ9yfZBuft6d0+4e6KmpqYApYhIlNw+t29MJCaeH0Al5S+nMfs0Rtd5lnTdbe6+qgDvIyJl5ovXTe2+qnZy42be866efWpI54q6MTy9bHaQJZaNQvTsW4GGtLb6ZPuQdKcqEQF4r58u44utx0pfSJnKO+zdvR04YWYzAMxsGnDY3TP6v6Q7VYkIwEDT8etWbu7+I7krxDAOwF3AE2Y2GjgOLMn0iWa2EFjY0JD+y4GIxMnuBz84YatgL7ycwt7dN6Q9fgO4tv+9h3ytTcCmRCJxWy7PF5HyM9CJQMmd1sYRkVC76e9fZNve9j7t40YOZ+eXfi+AisIlVGvjDEYnaEVkMP0FPcCRk++XuJJoCzzsdYJWRAYzt7663/ZxI4eXuJJo0zCOiETKYCdvB7oqt5xpGEdERLoFHvYaxhERKb5CzbMXESmJOA7VFILCXkQibc6DWzl4/L0Bt+vLoUvgwzgasxeRfAwW9PKBwMNeY/Yiko+JVecGXUIkaBhHRCLthcb5QZcQCYH37EVEpPjUsxeRsjTUyplxO3EbeM9eJ2hFRIov8LDXCVoRkeLTMI6IlKW4DdMMJfCevYiIFJ/CXkQkBjSMIyKxcf3/eIGWg+9ktG+5DQMF3rPXbBwRKZVMg74cBR72mo0jIqWSmHh+0CUERsM4IhIbz9wxJ+gSAhN4z15ERIpPYS8iEgMKexGRGFDYi4jEgMJeRCQGNBtHRCRpqGWRBxKFC7AC79nroioRkeILPOx1UZWISPFpGEdEJCkKwzG5CrxnLyIixaewFxGJAYW9iEgMKOxFRGJAYS8iEgMKexGRGFDYi4jEgMJeRCQGFPYiIjFQtCtozex+wIBfu/v6Yr2PiIgMrSg9ezObC+x09y8DY8xsXDHeR0REMpNVz97MGoGj7r4u+Xg8sAGoBt4Bbnb3N4EE8L+TT/sVcAmwrUA1i4gELtflkAdTzLV5MurZm1mtmW0HVqRtWgOscveZQCPwUOopgPfYz+mHmS01sxYza2lra8uuchERyVhGYe/uh9x9FnBvqs3MxgDj3L05uU8LUJVsfxm4LLnrNGDXAK+73t0T7p6oqanJ458hIiKDyecE7SRgT1rbvmT7j4FVZjYLeNPdj+TxPiIioRO15ZDzCfv0oZoUd3cHvpTRi5gtBBY2NDTkUYqIiAwmn9k4rUB6Qtcn2zOmO1WJiBRfzmHv7u3ACTObAWBm04DD7n4sm9fRPWhFRIov34uq7gKeMLPRwHFgSbYv4O6bgE2JROK2PGsREZEBZBX27r4h7fEbwLWFLEhERAov8LVxNIwjIlJ8gYe9TtCKiBSfdc2SDJ6ZtQEHejRV0XUeINPHFwCHi1Ba+vsU8jmD7TfQtv7ao3ysMn1esY5VepuOVeZtpTpWA9VSiOeU6lilPy7ksbrY3Ye+KtXdQ/kHWJ/l45ZS1FHI5wy230Db+muP8rHK9HnFOlbpbTpW4TtWuR6vMB2rfo5d0Y7VQH8CH8YZxKYsH5eqjkI+Z7D9BtrWX3uUj1WmzyvWsUpv07HKvK1UxyrX9wrTscq0nqIJzTBOvsysxd0TQdcRBTpWmdOxypyOVeaCOFZh7tlnSzdIyZyOVeZ0rDKnY5W5kh+rsunZi4jIwMqpZy8iIgNQ2IuIxIDCXkQkBhT20s3MrjaziqDrEIkrM/uomV1ejNfOd9XLUDOz++m6ycqv3V0zBQZhZp8G7gOuBjoDLie0zOw84EGgHRgD3OvuZ4OtKpySNyaaAwwHtrr7swGXFGpmNgz4C+CXwP8r9OuXbc/ezOYCO939y8AYMxsXdE2lZmaNZrasx+PxZvasmTWb2RYzm5Da5u4/BDYHUmi0vAfc4+5fAQ4CHw64njBrdve/dPd7gN8LupggZPMZBG4FvlOsWiIX9lkcvATQkvz7r4BLSl1rUMys1sy2AyvSNq0BVrn7TKAReKjkxYVUpj9X3uVssvMwg67Aj5UsjtXbye0jidlvi9l+Bs3sY8Ap4PVi1RSZsM8hwNLvkRubCwrc/ZC7zwLuTbWZ2RhgnLs3J/dpAaqS7bGVyxejmU0FHgBWeIwuVMnxWN0JPAXsLFmhIZDDZ/BaoBa4HbjGzC4tdE2RCfscDt7LwGXJXacBu0pccthMAvakte1LtsdWtj9XZjaKrg/kn7t7sVZ4DKVcOhHu/qi7Xw/MDqLmkBnwM5g8Tg8Ca4Et7v7LQr951E/QDhZgPwZWmdks4E13P1Lq4kIm/TedlO42d19VsmrCbbCfqzHAaKDRzAC+6+77SlteqAx4rJLDN1cB5wKvlLqwEMrkM9gKfKsYbx71sB/w4CV/vf5SiesJs1agIa2tPtkuvQ32c/U88HyJ6wmzwY5VE9BU4nrCrJUAP4ORGcYZQCsKsIy4eztwwsxmAJjZNOCwux8LtrJQakU/V5lqRccqI0F/BiPds3f3djM7YWYz3P0lBdiQ7gKeMLPRdN0xZ0nA9YSSfq4yp2OVtcA+g5EO+yQF2ADcfUPa4zfoOusvQ9PPVeZ0rAYQps+gljgWEYmBqI/Zi4hIBhT2IiIxoLAXEYkBhb2ISAwo7EVEYkBhLyISAwp7EZEYUNiLiMTA/weQutQL//6IpAAAAABJRU5ErkJggg\u003d\u003d\n"
          },
          "metadata": {
            "needs_background": "light"
          },
          "output_type": "display_data"
        }
      ],
      "source": "freq2num_type \u003d {}\nplt.scatter(range(1, len(freqs)+1), freqs, s\u003d1)\nplt.xscale(\u0027log\u0027)\nplt.yscale(\u0027log\u0027)\nplt.show()\n\n",
      "metadata": {
        "pycharm": {
          "metadata": false,
          "name": "#%%\n",
          "is_executing": false
        }
      }
    }
  ],
  "metadata": {
    "language_info": {
      "codemirror_mode": {
        "name": "ipython",
        "version": 2
      },
      "file_extension": ".py",
      "mimetype": "text/x-python",
      "name": "python",
      "nbconvert_exporter": "python",
      "pygments_lexer": "ipython2",
      "version": "2.7.6"
    },
    "kernelspec": {
      "name": "python3",
      "language": "python",
      "display_name": "Python 3"
    },
    "stem_cell": {
      "cell_type": "raw",
      "source": "",
      "metadata": {
        "pycharm": {
          "metadata": false
        }
      }
    }
  },
  "nbformat": 4,
  "nbformat_minor": 0
}