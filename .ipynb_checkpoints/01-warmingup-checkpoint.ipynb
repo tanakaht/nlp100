{
 "cells": [
  {
   "cell_type": "markdown",
   "metadata": {},
   "source": [
    "00. 文字列の逆順\n",
    "\n",
    "文字列\"stressed\"の文字を逆に（末尾から先頭に向かって）並べた文字列を得よ．\n"
   ]
  },
  {
   "cell_type": "code",
   "execution_count": 2,
   "metadata": {},
   "outputs": [
    {
     "name": "stdout",
     "output_type": "stream",
     "text": [
      "desserts\n"
     ]
    }
   ],
   "source": [
    "s0 = \"stressed\"\n",
    "s0_rev = s[::-1]\n",
    "print(s0_rev)"
   ]
  },
  {
   "cell_type": "markdown",
   "metadata": {},
   "source": [
    "01. 「パタトクカシーー」\n",
    "\n",
    "「パタトクカシーー」という文字列の1,3,5,7文字目を取り出して連結した文字列を得よ．"
   ]
  },
  {
   "cell_type": "code",
   "execution_count": 16,
   "metadata": {},
   "outputs": [
    {
     "name": "stdout",
     "output_type": "stream",
     "text": [
      "タクシー\n"
     ]
    }
   ],
   "source": [
    "s1 = 'パタトクカシーー'\n",
    "s1_odd = s1[1::2]\n",
    "print(s1_odd)"
   ]
  },
  {
   "cell_type": "markdown",
   "metadata": {},
   "source": [
    "02. 「パトカー」＋「タクシー」＝「パタトクカシーー」\n",
    "\n",
    "「パトカー」＋「タクシー」の文字を先頭から交互に連結して文字列「パタトクカシーー」を得よ．"
   ]
  },
  {
   "cell_type": "code",
   "execution_count": 7,
   "metadata": {},
   "outputs": [
    {
     "name": "stdout",
     "output_type": "stream",
     "text": [
      "パタトクカシーー\n"
     ]
    }
   ],
   "source": [
    "パトカー = 'パトカー'\n",
    "タクシー = 'タクシー'\n",
    "パタトクカシーー = ''\n",
    "for i, j in zip(パトカー, タクシー):\n",
    "    パタトクカシーー += i+j\n",
    "print(パタトクカシーー)"
   ]
  },
  {
   "cell_type": "markdown",
   "metadata": {},
   "source": [
    "03. 円周率\n",
    "\n",
    "\"Now I need a drink, alcoholic of course, after the heavy lectures involving quantum mechanics.\"という文を単語に分解し，各単語の（アルファベットの）文字数を先頭から出現順に並べたリストを作成せよ．\n",
    "\n"
   ]
  },
  {
   "cell_type": "code",
   "execution_count": 15,
   "metadata": {},
   "outputs": [
    {
     "name": "stdout",
     "output_type": "stream",
     "text": [
      "[(3, 'Now'), (1, 'I'), (4, 'need'), (1, 'a'), (5, 'drink'), (9, 'alcoholic'), (2, 'of'), (6, 'course'), (5, 'after'), (3, 'the'), (5, 'heavy'), (8, 'lectures'), (9, 'involving'), (7, 'quantum'), (9, 'mechanics')]\n"
     ]
    }
   ],
   "source": [
    "s3 = \"Now I need a drink, alcoholic of course, after the heavy lectures involving quantum mechanics.\"\n",
    "s3 = s3.replace('.','').replace(',','')\n",
    "s3_words = s3.split(' ')\n",
    "s3_word_length = [len(word) for word in s3_words]\n",
    "print(list(zip(s3_word_length, s3_words)))"
   ]
  },
  {
   "cell_type": "markdown",
   "metadata": {},
   "source": [
    "04. 元素記号\n",
    "\n",
    "\"Hi He Lied Because Boron Could Not Oxidize Fluorine. New Nations Might Also Sign Peace Security Clause. Arthur King Can.\"という文を単語に分解し，1, 5, 6, 7, 8, 9, 15, 16, 19番目の単語は先頭の1文字，それ以外の単語は先頭に2文字を取り出し，取り出した文字列から単語の位置（先頭から何番目の単語か）への連想配列（辞書型もしくはマップ型）を作成せよ．"
   ]
  },
  {
   "cell_type": "code",
   "execution_count": 19,
   "metadata": {},
   "outputs": [
    {
     "name": "stdout",
     "output_type": "stream",
     "text": [
      "{'H': 0, 'He': 1, 'L': 2, 'B': 4, 'Co': 5, 'No': 6, 'Ox': 7, 'Fl': 8, 'Ne': 9, 'N': 10, 'M': 11, 'A': 17, 'S': 13, 'P': 14, 'Se': 15, 'Cl': 16, 'K': 18, 'Ca': 19}\n"
     ]
    }
   ],
   "source": [
    "s4 = \"Hi He Lied Because Boron Could Not Oxidize Fluorine. New Nations Might Also Sign Peace Security Clause. Arthur King Can.\"\n",
    "s4 = s4.replace('.','').replace(',','')\n",
    "s4_words = s4.split(' ')\n",
    "d = {i: 1 for i in range(len(s4_words))}\n",
    "for i in [1, 5, 6, 7, 8, 9, 15, 16, 19]:\n",
    "    d[i] = 2\n",
    "atom_dict4 = {s4_words[i][:d[i]]: i for i in range(len(s4_words))}\n",
    "print(atom_dict4)"
   ]
  },
  {
   "cell_type": "markdown",
   "metadata": {},
   "source": [
    "05. n-gram\n",
    "\n",
    "与えられたシーケンス（文字列やリストなど）からn-gramを作る関数を作成せよ．この関数を用い，\"I am an NLPer\"という文から単語bi-gram，文字bi-gramを得よ．"
   ]
  },
  {
   "cell_type": "code",
   "execution_count": 24,
   "metadata": {},
   "outputs": [
    {
     "name": "stdout",
     "output_type": "stream",
     "text": [
      "[('I', 'am'), ('am', 'an'), ('an', 'NLPer')]\n",
      "[('I', ' '), (' ', 'a'), ('a', 'm'), ('m', ' '), (' ', 'a'), ('a', 'n'), ('n', ' '), (' ', 'N'), ('N', 'L'), ('L', 'P'), ('P', 'e'), ('e', 'r')]\n"
     ]
    }
   ],
   "source": [
    "def ngram(s, n):\n",
    "    l = []\n",
    "    for i in range(len(s)-n+1):\n",
    "        l.append(tuple(s[i:i+n]))\n",
    "    return l\n",
    "\n",
    "print(ngram(\"I am an NLPer\".split(' '), 2))\n",
    "print(ngram(\"I am an NLPer\", 2))"
   ]
  },
  {
   "cell_type": "markdown",
   "metadata": {},
   "source": [
    "\n",
    "06. 集合\n",
    "\n",
    "\"paraparaparadise\"と\"paragraph\"に含まれる文字bi-gramの集合を，それぞれ, XとYとして求め，XとYの和集合，積集合，差集合を求めよ．さらに，'se'というbi-gramがXおよびYに含まれるかどうかを調べよ．\n",
    "\n"
   ]
  },
  {
   "cell_type": "code",
   "execution_count": 30,
   "metadata": {},
   "outputs": [
    {
     "name": "stdout",
     "output_type": "stream",
     "text": [
      "{('a', 'r'), ('p', 'a'), ('d', 'i'), ('a', 'd'), ('r', 'a'), ('i', 's'), ('g', 'r'), ('p', 'h'), ('a', 'p'), ('s', 'e'), ('a', 'g')}\n",
      "{('a', 'p'), ('a', 'r'), ('p', 'a'), ('r', 'a')}\n",
      "{('a', 'd'), ('i', 's'), ('s', 'e'), ('d', 'i')}\n",
      "'se' in X:True\n",
      "'se' in Y:False\n"
     ]
    }
   ],
   "source": [
    "parapara = \"paraparaparadise\"\n",
    "paragraph = \"paragraph\"\n",
    "X = set(ngram(parapara, 2))\n",
    "Y = set(ngram(paragraph, 2))\n",
    "print(X.union(Y))\n",
    "print(X.intersection(Y))\n",
    "print(X.difference(Y))\n",
    "print(\"'se' in X:{}\\n'se' in Y:{}\".format(('s', 'e') in X, ('s', 'e') in Y))"
   ]
  },
  {
   "cell_type": "markdown",
   "metadata": {},
   "source": [
    "07. テンプレートによる文生成\n",
    "\n",
    "引数x, y, zを受け取り「x時のyはz」という文字列を返す関数を実装せよ．さらに，x=12, y=\"気温\", z=22.4として，実行結果を確認せよ．\n"
   ]
  },
  {
   "cell_type": "code",
   "execution_count": 31,
   "metadata": {},
   "outputs": [
    {
     "data": {
      "text/plain": [
       "'12時の気温は22.4'"
      ]
     },
     "execution_count": 31,
     "metadata": {},
     "output_type": "execute_result"
    }
   ],
   "source": [
    "def x時のyはz(x, y, z):\n",
    "    return '{}時の{}は{}'.format(x, y, z)\n",
    "\n",
    "x時のyはz(x=12, y=\"気温\", z=22.4)"
   ]
  },
  {
   "cell_type": "markdown",
   "metadata": {},
   "source": [
    "08. 暗号文\n",
    "\n",
    "与えられた文字列の各文字を，以下の仕様で変換する関数cipherを実装せよ．\n",
    "英小文字ならば(219 - 文字コード)の文字に置換\n",
    "その他の文字はそのまま出力\n",
    "この関数を用い，英語のメッセージを暗号化・復号化せよ．\n"
   ]
  },
  {
   "cell_type": "code",
   "execution_count": 45,
   "metadata": {},
   "outputs": [
    {
     "name": "stdout",
     "output_type": "stream",
     "text": [
      "I'n hl szkkb\n",
      "I'm so happy\n"
     ]
    }
   ],
   "source": [
    "def cipher(s):\n",
    "    return ''.join(chr(219-ord(c)) if (ord('a') <= ord(c) and ord(c) <= ord('z'))  else c  for c in s)\n",
    "\n",
    "print(cipher(\"I'm so happy\"))\n",
    "print(cipher(cipher(\"I'm so happy\")))"
   ]
  },
  {
   "cell_type": "markdown",
   "metadata": {},
   "source": [
    "09. Typoglycemia\n",
    "\n",
    "スペースで区切られた単語列に対して，各単語の先頭と末尾の文字は残し，それ以外の文字の順序をランダムに並び替えるプログラムを作成せよ．ただし，長さが４以下の単語は並び替えないこととする．適当な英語の文（例えば\"I couldn't believe that I could actually understand what I was reading : the phenomenal power of the human mind .\"）を与え，その実行結果を確認せよ．"
   ]
  },
  {
   "cell_type": "code",
   "execution_count": 52,
   "metadata": {},
   "outputs": [
    {
     "name": "stdout",
     "output_type": "stream",
     "text": [
      "I co'dunlt bveilee that I could aulltacy undetrasnd what I was rndaieg : the panmhoenel pewor of the huamn mind .\n"
     ]
    }
   ],
   "source": [
    "import random\n",
    "\n",
    "def change_word(word):\n",
    "    if len(word) < 4:\n",
    "        return word\n",
    "    else:\n",
    "        return word[0] + ''.join(random.sample(word[1:-1], len(word)-2)) + word [-1]\n",
    "def change_str(s):\n",
    "    return ' '.join([change_word(word) for word in s.split(' ')])\n",
    "\n",
    "print(change_str(\"I couldn't believe that I could actually understand what I was reading : the phenomenal power of the human mind .\"))"
   ]
  }
 ],
 "metadata": {
  "kernelspec": {
   "display_name": "Python 3",
   "language": "python",
   "name": "python3"
  },
  "language_info": {
   "codemirror_mode": {
    "name": "ipython",
    "version": 3
   },
   "file_extension": ".py",
   "mimetype": "text/x-python",
   "name": "python",
   "nbconvert_exporter": "python",
   "pygments_lexer": "ipython3",
   "version": "3.7.1"
  }
 },
 "nbformat": 4,
 "nbformat_minor": 2
}
