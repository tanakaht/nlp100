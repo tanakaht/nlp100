{
  "cells": [
    {
      "cell_type": "markdown",
      "source": "40. 係り受け解析結果の読み込み（形態素）\n形態素を表すクラスMorphを実装せよ．このクラスは表層形（surface），基本形（base），品詞（pos），品詞細分類1（pos1）をメンバ変数に持つこととする．さらに，CaboChaの解析結果（neko.txt.cabocha）を読み込み，各文をMorphオブジェクトのリストとして表現し，3文目の形態素列を表示せよ．\n",
      "metadata": {
        "pycharm": {
          "metadata": false,
          "name": "#%% md\n"
        }
      }
    },
    {
      "cell_type": "code",
      "execution_count": 13,
      "outputs": [
        {
          "name": "stdout",
          "text": [
            "[\u003c__main__.Morph object at 0x1124c17b8\u003e]\n[\u0027一, 一, 名詞, 数\u0027, \u0027\\u3000, \\u3000, 記号, 空白\u0027, \u0027吾輩, 吾輩, 名詞, 代名詞\u0027, \u0027は, は, 助詞, 係助詞\u0027, \u0027猫, 猫, 名詞, 一般\u0027, \u0027で, だ, 助動詞, *\u0027, \u0027ある, ある, 助動詞, *\u0027, \u0027。, 。, 記号, 句点\u0027]\n"
          ],
          "output_type": "stream"
        }
      ],
      "source": "class Morph(object):\n    def __init__(self, surface, base, pos, pos1):\n        self.surface \u003d surface\n        self.base \u003d base\n        self.pos \u003d pos\n        self.pos1 \u003d pos1\n    \n    def __str__(self):\n        return f\u0027{self.surface}, {self.base}, {self.pos}, {self.pos1}\u0027\n\ndef sentences_gen():\n    with open(\u0027./data/05-dependency_analysis/neko.txt.cabocha\u0027) as f:\n        l \u003d []\n        for line in f:\n            if line.startswith(\u0027*\u0027):\n                continue\n            elif line \u003d\u003d \u0027EOS\\n\u0027:\n                yield l\n            else:\n                surface, rest \u003d line.split(\u0027\\t\u0027)\n                pos, pos1 \u003d rest.split(\u0027,\u0027)[0: 2]\n                base \u003d rest.split(\u0027,\u0027)[6]\n                l.append(Morph(surface, base, pos , pos1))\n\nsentences \u003d sentences_gen()\nnext(sentences)\nnext(sentences)\nprint([str(i) for i in next(sentences)])",
      "metadata": {
        "pycharm": {
          "metadata": false,
          "name": "#%%\n",
          "is_executing": false
        }
      }
    },
    {
      "cell_type": "markdown",
      "source": "43. 名詞を含む文節が動詞を含む文節に係るものを抽出\n名詞を含む文節が，動詞を含む文節に係るとき，これらをタブ区切り形式で抽出せよ．ただし，句読点などの記号は出力しないようにせよ．\n\n\n#%\n",
      "metadata": {
        "pycharm": {
          "metadata": false,
          "name": "#%% md\n"
        }
      }
    },
    {
      "cell_type": "markdown",
      "source": "44. 係り受け木の可視化\n与えられた文の係り受け木を有向グラフとして可視化せよ．可視化には，係り受け木をDOT言語に変換し，Graphvizを用いるとよい．また，Pythonから有向グラフを直接的に可視化するには，pydotを使うとよい．\n\n\n#%\n",
      "metadata": {
        "pycharm": {
          "metadata": false,
          "name": "#%% md\n"
        }
      }
    },
    {
      "cell_type": "markdown",
      "source": "45. 動詞の格パターンの抽出\n今回用いている文章をコーパスと見なし，日本語の述語が取りうる格を調査したい． 動詞を述語，動詞に係っている文節の助詞を格と考え，述語と格をタブ区切り形式で出力せよ． ただし，出力は以下の仕様を満たすようにせよ．\n\n動詞を含む文節において，最左の動詞の基本形を述語とする\n述語に係る助詞を格とする\n述語に係る助詞（文節）が複数あるときは，すべての助詞をスペース区切りで辞書順に並べる\n「吾輩はここで始めて人間というものを見た」という例文（neko.txt.cabochaの8文目）を考える． この文は「始める」と「見る」の２つの動詞を含み，「始める」に係る文節は「ここで」，「見る」に係る文節は「吾輩は」と「ものを」と解析された場合は，次のような出力になるはずである．\n\n始める  で\n見る    は を\nこのプログラムの出力をファイルに保存し，以下の事項をUNIXコマンドを用いて確認せよ．\n\nコーパス中で頻出する述語と格パターンの組み合わせ\n「する」「見る」「与える」という動詞の格パターン（コーパス中で出現頻度の高い順に並べよ）\n\n#%\n",
      "metadata": {
        "pycharm": {
          "metadata": false,
          "name": "#%% md\n"
        }
      }
    },
    {
      "cell_type": "markdown",
      "source": "46. 動詞の格フレーム情報の抽出\n45のプログラムを改変し，述語と格パターンに続けて項（述語に係っている文節そのもの）をタブ区切り形式で出力せよ．45の仕様に加えて，以下の仕様を満たすようにせよ．\n\n項は述語に係っている文節の単語列とする（末尾の助詞を取り除く必要はない）\n述語に係る文節が複数あるときは，助詞と同一の基準・順序でスペース区切りで並べる\n「吾輩はここで始めて人間というものを見た」という例文（neko.txt.cabochaの8文目）を考える． この文は「始める」と「見る」の２つの動詞を含み，「始める」に係る文節は「ここで」，「見る」に係る文節は「吾輩は」と「ものを」と解析された場合は，次のような出力になるはずである．\n\n始める  で      ここで\n見る    は を   吾輩は ものを\n\n#%\n",
      "metadata": {
        "pycharm": {
          "metadata": false,
          "name": "#%% md\n"
        }
      }
    },
    {
      "cell_type": "markdown",
      "source": "47. 機能動詞構文のマイニング\n動詞のヲ格にサ変接続名詞が入っている場合のみに着目したい．46のプログラムを以下の仕様を満たすように改変せよ．\n\n「サ変接続名詞+を（助詞）」で構成される文節が動詞に係る場合のみを対象とする\n述語は「サ変接続名詞+を+動詞の基本形」とし，文節中に複数の動詞があるときは，最左の動詞を用いる\n述語に係る助詞（文節）が複数あるときは，すべての助詞をスペース区切りで辞書順に並べる\n述語に係る文節が複数ある場合は，すべての項をスペース区切りで並べる（助詞の並び順と揃えよ）\n例えば「別段くるにも及ばんさと、主人は手紙に返事をする。」という文から，以下の出力が得られるはずである．\n\n返事をする      と に は        及ばんさと 手紙に 主人は\nこのプログラムの出力をファイルに保存し，以下の事項をUNIXコマンドを用いて確認せよ．\n\nコーパス中で頻出する述語（サ変接続名詞+を+動詞）\nコーパス中で頻出する述語と助詞パターン\n\n#%\n",
      "metadata": {
        "pycharm": {
          "metadata": false,
          "name": "#%% md\n"
        }
      }
    },
    {
      "cell_type": "markdown",
      "source": "",
      "metadata": {
        "pycharm": {
          "metadata": false,
          "name": "#%% md\n"
        }
      }
    },
    {
      "cell_type": "markdown",
      "source": "44. 係り受け木の可視化\n与えられた文の係り受け木を有向グラフとして可視化せよ．可視化には，係り受け木をDOT言語に変換し，Graphvizを用いるとよい．また，Pythonから有向グラフを直接的に可視化するには，pydotを使うとよい．\n\n",
      "metadata": {
        "pycharm": {
          "metadata": false
        }
      }
    },
    {
      "cell_type": "code",
      "execution_count": null,
      "outputs": [],
      "source": "",
      "metadata": {
        "pycharm": {
          "metadata": false,
          "name": "#%%\n"
        }
      }
    },
    {
      "cell_type": "markdown",
      "source": "45. 動詞の格パターンの抽出\n今回用いている文章をコーパスと見なし，日本語の述語が取りうる格を調査したい． 動詞を述語，動詞に係っている文節の助詞を格と考え，述語と格をタブ区切り形式で出力せよ． ただし，出力は以下の仕様を満たすようにせよ．\n\n動詞を含む文節において，最左の動詞の基本形を述語とする\n述語に係る助詞を格とする\n述語に係る助詞（文節）が複数あるときは，すべての助詞をスペース区切りで辞書順に並べる\n「吾輩はここで始めて人間というものを見た」という例文（neko.txt.cabochaの8文目）を考える． この文は「始める」と「見る」の２つの動詞を含み，「始める」に係る文節は「ここで」，「見る」に係る文節は「吾輩は」と「ものを」と解析された場合は，次のような出力になるはずである．\n\n始める  で\n見る    は を\nこのプログラムの出力をファイルに保存し，以下の事項をUNIXコマンドを用いて確認せよ．\n\nコーパス中で頻出する述語と格パターンの組み合わせ\n「する」「見る」「与える」という動詞の格パターン（コーパス中で出現頻度の高い順に並べよ）\n",
      "metadata": {
        "pycharm": {
          "metadata": false
        }
      }
    },
    {
      "cell_type": "code",
      "execution_count": null,
      "outputs": [],
      "source": "",
      "metadata": {
        "pycharm": {
          "metadata": false,
          "name": "#%%\n"
        }
      }
    },
    {
      "cell_type": "markdown",
      "source": "46. 動詞の格フレーム情報の抽出\n45のプログラムを改変し，述語と格パターンに続けて項（述語に係っている文節そのもの）をタブ区切り形式で出力せよ．45の仕様に加えて，以下の仕様を満たすようにせよ．\n\n項は述語に係っている文節の単語列とする（末尾の助詞を取り除く必要はない）\n述語に係る文節が複数あるときは，助詞と同一の基準・順序でスペース区切りで並べる\n「吾輩はここで始めて人間というものを見た」という例文（neko.txt.cabochaの8文目）を考える． この文は「始める」と「見る」の２つの動詞を含み，「始める」に係る文節は「ここで」，「見る」に係る文節は「吾輩は」と「ものを」と解析された場合は，次のような出力になるはずである．\n\n始める  で      ここで\n見る    は を   吾輩は ものを\n",
      "metadata": {
        "pycharm": {
          "metadata": false
        }
      }
    },
    {
      "cell_type": "code",
      "execution_count": null,
      "outputs": [],
      "source": "",
      "metadata": {
        "pycharm": {
          "metadata": false,
          "name": "#%%\n"
        }
      }
    },
    {
      "cell_type": "markdown",
      "source": "47. 機能動詞構文のマイニング\n動詞のヲ格にサ変接続名詞が入っている場合のみに着目したい．46のプログラムを以下の仕様を満たすように改変せよ．\n\n「サ変接続名詞+を（助詞）」で構成される文節が動詞に係る場合のみを対象とする\n述語は「サ変接続名詞+を+動詞の基本形」とし，文節中に複数の動詞があるときは，最左の動詞を用いる\n述語に係る助詞（文節）が複数あるときは，すべての助詞をスペース区切りで辞書順に並べる\n述語に係る文節が複数ある場合は，すべての項をスペース区切りで並べる（助詞の並び順と揃えよ）\n例えば「別段くるにも及ばんさと、主人は手紙に返事をする。」という文から，以下の出力が得られるはずである．\n\n返事をする      と に は        及ばんさと 手紙に 主人は\nこのプログラムの出力をファイルに保存し，以下の事項をUNIXコマンドを用いて確認せよ．\n\nコーパス中で頻出する述語（サ変接続名詞+を+動詞）\nコーパス中で頻出する述語と助詞パターン\n",
      "metadata": {
        "pycharm": {
          "metadata": false
        }
      }
    },
    {
      "cell_type": "code",
      "execution_count": null,
      "outputs": [],
      "source": "",
      "metadata": {
        "pycharm": {
          "metadata": false,
          "name": "#%%\n"
        }
      }
    },
    {
      "cell_type": "markdown",
      "source": "48. 名詞から根へのパスの抽出\n文中のすべての名詞を含む文節に対し，その文節から構文木の根に至るパスを抽出せよ． ただし，構文木上のパスは以下の仕様を満たすものとする．\n\n各文節は（表層形の）形態素列で表現する\nパスの開始文節から終了文節に至るまで，各文節の表現を\"-\u003e\"で連結する\n「吾輩はここで始めて人間というものを見た」という文（neko.txt.cabochaの8文目）から，次のような出力が得られるはずである．\n\n吾輩は -\u003e 見た\nここで -\u003e 始めて -\u003e 人間という -\u003e ものを -\u003e 見た\n人間という -\u003e ものを -\u003e 見た\nものを -\u003e 見た\n",
      "metadata": {
        "pycharm": {
          "metadata": false
        }
      }
    },
    {
      "cell_type": "code",
      "execution_count": null,
      "outputs": [],
      "source": "",
      "metadata": {
        "pycharm": {
          "metadata": false,
          "name": "#%%\n"
        }
      }
    },
    {
      "cell_type": "markdown",
      "source": "49. 名詞間の係り受けパスの抽出\n文中のすべての名詞句のペアを結ぶ最短係り受けパスを抽出せよ．ただし，名詞句ペアの文節番号がi\n",
      "metadata": {
        "pycharm": {
          "metadata": false,
          "name": "#%% md\n"
        }
      }
    },
    {
      "cell_type": "code",
      "execution_count": null,
      "outputs": [],
      "source": "",
      "metadata": {
        "pycharm": {
          "metadata": false,
          "name": "#%%\n"
        }
      }
    }
  ],
  "metadata": {
    "language_info": {
      "codemirror_mode": {
        "name": "ipython",
        "version": 2
      },
      "file_extension": ".py",
      "mimetype": "text/x-python",
      "name": "python",
      "nbconvert_exporter": "python",
      "pygments_lexer": "ipython2",
      "version": "2.7.6"
    },
    "kernelspec": {
      "name": "python3",
      "language": "python",
      "display_name": "Python 3"
    },
    "stem_cell": {
      "cell_type": "raw",
      "source": "",
      "metadata": {
        "pycharm": {
          "metadata": false
        }
      }
    }
  },
  "nbformat": 4,
  "nbformat_minor": 0
}