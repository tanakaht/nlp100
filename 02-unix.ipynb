{
 "cells": [
  {
   "cell_type": "markdown",
   "metadata": {
    "pycharm": {
     "metadata": false,
     "name": "#%% md\n"
    }
   },
   "source": [
    "\n",
    "hightemp.txtは，日本の最高気温の記録を「都道府県」「地点」「℃」「日」のタブ区切り形式で格納したファイルである．以下の処理を行うプログラムを作成し，hightemp.txtを入力ファイルとして実行せよ．さらに，同様の処理をUNIXコマンドでも実行し，プログラムの実行結果を確認せよ．\n"
   ]
  },
  {
   "cell_type": "code",
   "execution_count": 6,
   "metadata": {
    "pycharm": {
     "is_executing": false
    }
   },
   "outputs": [],
   "source": [
    "import subprocess\n",
    "from pprint import pprint\n",
    "\n",
    "\n",
    "hightemp = 'data/02-unix/hightemp.txt'\n",
    "\n",
    "def system(command, **options):\n",
    "    proc = subprocess.Popen(command, shell=True,\n",
    "                            stdout=subprocess.PIPE,\n",
    "                            **options)\n",
    "    return proc.communicate()[0].decode('utf-8')"
   ]
  },
  {
   "cell_type": "markdown",
   "metadata": {
    "pycharm": {
     "metadata": false
    }
   },
   "source": [
    "10. 行数のカウント\n",
    "行数をカウントせよ．確認にはwcコマンドを用いよ．\n"
   ]
  },
  {
   "cell_type": "code",
   "execution_count": 7,
   "metadata": {
    "pycharm": {
     "is_executing": false,
     "metadata": false,
     "name": "#%%\n"
    }
   },
   "outputs": [],
   "source": [
    "with open(hightemp) as f:\n",
    "    linecount = 0\n",
    "    for line in f:\n",
    "        linecount += 1\n",
    "\n",
    "assert linecount == int(system(f'wc -l {hightemp}').split()[0]), 'not match'\n",
    "    "
   ]
  },
  {
   "cell_type": "markdown",
   "metadata": {
    "pycharm": {
     "metadata": false,
     "name": "#%% md\n"
    }
   },
   "source": [
    "11. タブをスペースに置換\n",
    "タブ1文字につきスペース1文字に置換せよ．確認にはsedコマンド，trコマンド，もしくはexpandコマンドを用いよ．\n"
   ]
  },
  {
   "cell_type": "code",
   "execution_count": 8,
   "metadata": {
    "pycharm": {
     "is_executing": false,
     "metadata": false,
     "name": "#%%\n"
    }
   },
   "outputs": [],
   "source": [
    "with open(hightemp) as f:\n",
    "    text = f.read()\n",
    "\n",
    "tab_to_space = text.replace('\\t', ' ')\n",
    "assert tab_to_space == system(f\"sed s/$'\\t'/$' '/g {hightemp}\"), 'not match(1)'\n",
    "assert tab_to_space == system(f\"tr '\\t' ' ' < {hightemp}\"), 'not match(2)'\n",
    "assert tab_to_space == system(f\"expand -t 1 {hightemp}\"), 'not match(3)'\n",
    "\n"
   ]
  },
  {
   "cell_type": "markdown",
   "metadata": {
    "pycharm": {
     "metadata": false,
     "name": "#%% md\n"
    }
   },
   "source": [
    "12. 1列目をcol1.txtに，2列目をcol2.txtに保存\n",
    "各行の1列目だけを抜き出したものをcol1.txtに，2列目だけを抜き出したものをcol2.txtとしてファイルに保存せよ．確認にはcutコマンドを用いよ．"
   ]
  },
  {
   "cell_type": "code",
   "execution_count": 9,
   "metadata": {
    "pycharm": {
     "is_executing": false,
     "metadata": false,
     "name": "#%%\n"
    }
   },
   "outputs": [],
   "source": [
    "with open(hightemp) as f:\n",
    "    text = f.read()[:-1] # 最後の改行が邪魔なため\n",
    "lines = text.split('\\n')\n",
    "col1 = [line.split('\\t')[0] for line in lines]\n",
    "col2 = [line.split('\\t')[1] for line in lines]\n",
    "col1_f = 'data/02-unix/col1.txt'\n",
    "col2_f = 'data/02-unix/col2.txt'\n",
    "with open(col1_f, 'w') as f:\n",
    "    f.write('\\n'.join(col1))\n",
    "with open(col2_f, 'w') as f:\n",
    "    f.write('\\n'.join(col2))\n",
    "\n",
    "with open(col1_f, 'r') as f:\n",
    "    assert f.read() + '\\n' == system(f\"cut -f 1 {hightemp}\"), 'not match col1'\n",
    "with open(col2_f, 'r') as f:\n",
    "    assert f.read() + '\\n' == system(f\"cut -f 2 {hightemp}\"), 'not match col2'"
   ]
  },
  {
   "cell_type": "code",
   "execution_count": 11,
   "metadata": {},
   "outputs": [],
   "source": [
    "# not readlines\n",
    "col1_f = 'data/02-unix/col1.txt'\n",
    "col2_f = 'data/02-unix/col2.txt'\n",
    "with open(hightemp) as f, open(col1_f, 'w') as col1_w, open(col2_f, 'w') as col2_w:\n",
    "    for line in f:\n",
    "        col1, col2, *rest = line.split('\\t')\n",
    "        col1_w.write(f'{col1}\\n')\n",
    "        col2_w.write(f'{col2}\\n')\n",
    "\n",
    "with open(col1_f, 'r') as f:\n",
    "    assert f.read() == system(f\"cut -f 1 {hightemp}\"), 'not match col1'\n",
    "with open(col2_f, 'r') as f:\n",
    "    assert f.read() == system(f\"cut -f 2 {hightemp}\"), 'not match col2'"
   ]
  },
  {
   "cell_type": "markdown",
   "metadata": {
    "pycharm": {
     "metadata": false
    }
   },
   "source": [
    "13. col1.txtとcol2.txtをマージ\n",
    "12で作ったcol1.txtとcol2.txtを結合し，元のファイルの1列目と2列目をタブ区切りで並べたテキストファイルを作成せよ．確認にはpasteコマンドを用いよ．"
   ]
  },
  {
   "cell_type": "code",
   "execution_count": 19,
   "metadata": {
    "pycharm": {
     "is_executing": false,
     "metadata": false,
     "name": "#%%\n"
    }
   },
   "outputs": [],
   "source": [
    "col12 = 'data/02-unix/col12.txt'\n",
    "with open(col1_f, 'r') as col1_r, open(col2_f, 'r') as col2_r, open(col12, 'w') as w:\n",
    "    for col1, col2 in zip(col1_r, col2_r):\n",
    "        w.write(f'{col1[:-1]}\\t{col2[:-1]}\\n')\n",
    "\n",
    "assert system(f'cat {col12}') == system(f\"paste  {col1_f} {col2_f}\"), 'not match'"
   ]
  },
  {
   "cell_type": "markdown",
   "metadata": {
    "pycharm": {
     "metadata": false
    }
   },
   "source": [
    "14. 先頭からN行を出力\n",
    "自然数Nをコマンドライン引数などの手段で受け取り，入力のうち先頭のN行だけを表示せよ．確認にはheadコマンドを用いよ．"
   ]
  },
  {
   "cell_type": "code",
   "execution_count": 30,
   "metadata": {
    "pycharm": {
     "is_executing": false,
     "metadata": false,
     "name": "#%%\n"
    }
   },
   "outputs": [],
   "source": [
    "import argparse\n",
    "\n",
    "# Nをコマンドライン引数として受け取る\n",
    "def create_parser():\n",
    "    parser = argparse.ArgumentParser(description='N')\n",
    "    parser.add_argument('--N', type=int, default=10,\n",
    "                        help='Number of line to show')\n",
    "    return parser\n",
    "parser = create_parser()\n",
    "args = parser.parse_args(args=['--N', '10'])\n",
    "N = args.N\n",
    "\n",
    "with open(hightemp) as f:\n",
    "    text = f.read()\n",
    "\n",
    "n_lines = '\\n'.join(text.split('\\n')[:N])\n",
    "\n",
    "assert n_lines + '\\n' == system(f\"head -n {N} {hightemp}\"), 'not match'\n"
   ]
  },
  {
   "cell_type": "markdown",
   "metadata": {
    "pycharm": {
     "metadata": false,
     "name": "#%% md\n"
    }
   },
   "source": [
    "15. 末尾のN行を出力\n",
    "自然数Nをコマンドライン引数などの手段で受け取り，入力のうち末尾のN行だけを表示せよ．確認にはtailコマンドを用いよ．"
   ]
  },
  {
   "cell_type": "code",
   "execution_count": 31,
   "metadata": {
    "pycharm": {
     "is_executing": false,
     "metadata": false,
     "name": "#%%\n"
    }
   },
   "outputs": [],
   "source": [
    "# 以下、Nのコマンドライン引数としての受け取りを省略\n",
    "N = 10\n",
    "\n",
    "with open(hightemp) as f:\n",
    "    text = f.read()[:-1]\n",
    "\n",
    "n_lines = '\\n'.join(text.split('\\n')[-N:])\n",
    "\n",
    "assert n_lines + '\\n' == system(f\"tail -n {N} {hightemp}\"), 'not match'\n"
   ]
  },
  {
   "cell_type": "markdown",
   "metadata": {
    "pycharm": {
     "metadata": false
    }
   },
   "source": [
    "16. ファイルをN分割する\n",
    "自然数Nをコマンドライン引数などの手段で受け取り，入力のファイルを行単位でN分割せよ．同様の処理をsplitコマンドで実現せよ．\n"
   ]
  },
  {
   "cell_type": "code",
   "execution_count": 32,
   "metadata": {
    "pycharm": {
     "is_executing": false,
     "metadata": false,
     "name": "#%%\n"
    }
   },
   "outputs": [
    {
     "data": {
      "text/plain": [
       "''"
      ]
     },
     "execution_count": 32,
     "metadata": {},
     "output_type": "execute_result"
    }
   ],
   "source": [
    "N = 10\n",
    "with open(hightemp) as f:\n",
    "    text = f.read()[:-1]\n",
    "lines = text.split('\\n')\n",
    "line_count = len(lines)\n",
    "if line_count % N == 0:\n",
    "    lines_ave = line_count // N\n",
    "else:\n",
    "    lines_ave = line_count // N + 1\n",
    "split_points = [lines_ave*i for i in range(N+1)]\n",
    "split_points[N] = line_count\n",
    "\n",
    "for i in range(N):\n",
    "    with open(f'./data/02-unix/split_python/{i}.txt', 'w') as f:\n",
    "        f.write('\\n'.join(lines[split_points[i]: split_points[i+1]]))\n",
    "command = f'''\n",
    "n=10\n",
    "# wcの出力の先頭に空白が６つある\n",
    "count=`wc -l {hightemp} | cut -f 7 -d \" \"`\n",
    "\n",
    "if [ $(($count % $n)) = 0 ]; then\n",
    "    unit=$(($count / $n))\n",
    "else\n",
    "    unit=$(($count / $n + 1))\n",
    "fi\n",
    "\n",
    "# 分割\n",
    "cd data/02-unix/split_unix\n",
    "split -l $unit  ~/googledrive/PycharmProjects/nlp100/data/02-unix/hightemp.txt\n",
    "'''\n",
    "system(command)\n",
    "# test は見比べることにする\n"
   ]
  },
  {
   "cell_type": "markdown",
   "metadata": {
    "pycharm": {
     "metadata": false
    }
   },
   "source": [
    "17. １列目の文字列の異なり\n",
    "1列目の文字列の種類（異なる文字列の集合）を求めよ．確認にはsort, uniqコマンドを用いよ．\n"
   ]
  },
  {
   "cell_type": "code",
   "execution_count": 33,
   "metadata": {
    "pycharm": {
     "is_executing": false,
     "metadata": false,
     "name": "#%%\n"
    }
   },
   "outputs": [],
   "source": [
    "with open(hightemp) as f:\n",
    "    text = f.read()[:-1]\n",
    "lines = text.split('\\n')\n",
    "col1 = [line.split('\\t')[0] for line in lines]\n",
    "eles_1 = set(col1)\n",
    "command = f'cut -f 1 {hightemp} | sort | uniq'\n",
    "assert eles_1 == set(system(command)[:-1].split('\\n')), 'not match'\n"
   ]
  },
  {
   "cell_type": "markdown",
   "metadata": {
    "pycharm": {
     "metadata": false
    }
   },
   "source": [
    "18. 各行を3コラム目の数値の降順にソート\n",
    "各行を3コラム目の数値の逆順で整列せよ（注意: 各行の内容は変更せずに並び替えよ）．確認にはsortコマンドを用いよ（この問題はコマンドで実行した時の結果と合わなくてもよい）．\n"
   ]
  },
  {
   "cell_type": "code",
   "execution_count": 34,
   "metadata": {
    "pycharm": {
     "is_executing": false,
     "metadata": false,
     "name": "#%%\n"
    }
   },
   "outputs": [
    {
     "name": "stdout",
     "output_type": "stream",
     "text": [
      "高知県\t江川崎\t41\t2013-08-12\n",
      "埼玉県\t熊谷\t40.9\t2007-08-16\n",
      "岐阜県\t多治見\t40.9\t2007-08-16\n",
      "山形県\t山形\t40.8\t1933-07-25\n",
      "山梨県\t甲府\t40.7\t2013-08-10\n",
      "和歌山県\tかつらぎ\t40.6\t1994-08-08\n",
      "静岡県\t天竜\t40.6\t1994-08-04\n",
      "山梨県\t勝沼\t40.5\t2013-08-10\n",
      "埼玉県\t越谷\t40.4\t2007-08-16\n",
      "群馬県\t館林\t40.3\t2007-08-16\n",
      "群馬県\t上里見\t40.3\t1998-07-04\n",
      "愛知県\t愛西\t40.3\t1994-08-05\n",
      "千葉県\t牛久\t40.2\t2004-07-20\n",
      "静岡県\t佐久間\t40.2\t2001-07-24\n",
      "愛媛県\t宇和島\t40.2\t1927-07-22\n",
      "山形県\t酒田\t40.1\t1978-08-03\n",
      "岐阜県\t美濃\t40\t2007-08-16\n",
      "群馬県\t前橋\t40\t2001-07-24\n",
      "千葉県\t茂原\t39.9\t2013-08-11\n",
      "埼玉県\t鳩山\t39.9\t1997-07-05\n",
      "大阪府\t豊中\t39.9\t1994-08-08\n",
      "山梨県\t大月\t39.9\t1990-07-19\n",
      "山形県\t鶴岡\t39.9\t1978-08-03\n",
      "愛知県\t名古屋\t39.9\t1942-08-02\n",
      "高知県\t江川崎\t41\t2013-08-12\n",
      "岐阜県\t多治見\t40.9\t2007-08-16\n",
      "埼玉県\t熊谷\t40.9\t2007-08-16\n",
      "山形県\t山形\t40.8\t1933-07-25\n",
      "山梨県\t甲府\t40.7\t2013-08-10\n",
      "静岡県\t天竜\t40.6\t1994-08-04\n",
      "和歌山県\tかつらぎ\t40.6\t1994-08-08\n",
      "山梨県\t勝沼\t40.5\t2013-08-10\n",
      "埼玉県\t越谷\t40.4\t2007-08-16\n",
      "群馬県\t館林\t40.3\t2007-08-16\n",
      "群馬県\t上里見\t40.3\t1998-07-04\n",
      "愛知県\t愛西\t40.3\t1994-08-05\n",
      "静岡県\t佐久間\t40.2\t2001-07-24\n",
      "愛媛県\t宇和島\t40.2\t1927-07-22\n",
      "千葉県\t牛久\t40.2\t2004-07-20\n",
      "山形県\t酒田\t40.1\t1978-08-03\n",
      "群馬県\t前橋\t40\t2001-07-24\n",
      "岐阜県\t美濃\t40\t2007-08-16\n",
      "愛知県\t名古屋\t39.9\t1942-08-02\n",
      "山梨県\t大月\t39.9\t1990-07-19\n",
      "山形県\t鶴岡\t39.9\t1978-08-03\n",
      "大阪府\t豊中\t39.9\t1994-08-08\n",
      "埼玉県\t鳩山\t39.9\t1997-07-05\n",
      "千葉県\t茂原\t39.9\t2013-08-11\n",
      "\n"
     ]
    }
   ],
   "source": [
    "with open(hightemp) as f:\n",
    "    text = f.read()[:-1]\n",
    "cols = [line.split('\\t')[0] for line in lines]\n",
    "sorted_lines = sorted(lines, key=lambda line: float(line.split('\\t')[2]), reverse=True)\n",
    "\n",
    "command = f'sort {hightemp} --key=3 --numeric-sort --reverse'\n",
    "print('\\n'.join(sorted_lines))\n",
    "print(system(command))\n",
    "# assert '\\n'.join(sorted_lines) + '\\n' == system(command), 'not match'"
   ]
  },
  {
   "cell_type": "markdown",
   "metadata": {
    "pycharm": {
     "metadata": false
    }
   },
   "source": [
    "19. 各行の1コラム目の文字列の出現頻度を求め，出現頻度の高い順に並べる\n",
    "各行の1列目の文字列の出現頻度を求め，その高い順に並べて表示せよ．確認にはcut, uniq, sortコマンドを用いよ．\n"
   ]
  },
  {
   "cell_type": "code",
   "execution_count": 34,
   "metadata": {
    "pycharm": {
     "is_executing": false,
     "metadata": false,
     "name": "#%%\n"
    }
   },
   "outputs": [
    {
     "name": "stdout",
     "output_type": "stream",
     "text": [
      "山梨県\t3\n",
      "山形県\t3\n",
      "群馬県\t3\n",
      "埼玉県\t3\n",
      "岐阜県\t2\n",
      "愛知県\t2\n",
      "千葉県\t2\n",
      "静岡県\t2\n",
      "大阪府\t1\n",
      "高知県\t1\n",
      "愛媛県\t1\n",
      "和歌山県\t1\n",
      "群馬県\n",
      "山梨県\n",
      "山形県\n",
      "埼玉県\n",
      "静岡県\n",
      "愛知県\n",
      "岐阜県\n",
      "千葉県\n",
      "和歌山県\n",
      "高知県\n",
      "愛媛県\n",
      "大阪府\n",
      "\n"
     ]
    }
   ],
   "source": [
    "with open(hightemp) as f:\n",
    "    text = f.read()[:-1]\n",
    "lines = text.split('\\n')\n",
    "eles_1 = [line.split('\\t')[0] for line in lines]\n",
    "ele1_dict = {ele: 0 for ele in set(eles_1)}\n",
    "for ele in eles_1:\n",
    "    ele1_dict[ele] += 1\n",
    "\n",
    "sorted_eles = sorted(ele1_dict.items(), key=lambda item: int(item[1]), reverse=True)\n",
    "sorted_eles = '\\n'.join(f'{item[0]}\\t{item[1]}' for item in sorted_eles)\n",
    "print(sorted_eles)\n",
    "command = f\"cut -f 1 {hightemp} | sort | uniq -c | sort -n -r | cut -f 5 -d ' '\"\n",
    "print(system(command))\n",
    "# assert sorted_eles + '\\n' == system(command), 'not match'"
   ]
  },
  {
   "cell_type": "code",
   "execution_count": null,
   "metadata": {
    "pycharm": {
     "metadata": false,
     "name": "#%%\n"
    }
   },
   "outputs": [],
   "source": [
    "\n"
   ]
  }
 ],
 "metadata": {
  "kernelspec": {
   "display_name": "Python 3",
   "language": "python",
   "name": "python3"
  },
  "language_info": {
   "codemirror_mode": {
    "name": "ipython",
    "version": 3
   },
   "file_extension": ".py",
   "mimetype": "text/x-python",
   "name": "python",
   "nbconvert_exporter": "python",
   "pygments_lexer": "ipython3",
   "version": "3.7.3"
  },
  "stem_cell": {
   "cell_type": "raw",
   "metadata": {
    "pycharm": {
     "metadata": false
    }
   },
   "source": ""
  }
 },
 "nbformat": 4,
 "nbformat_minor": 1
}
