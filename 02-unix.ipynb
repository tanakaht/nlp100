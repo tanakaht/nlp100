{
  "cells": [
    {
      "cell_type": "markdown",
      "source": "\nhightemp.txtは，日本の最高気温の記録を「都道府県」「地点」「℃」「日」のタブ区切り形式で格納したファイルである．以下の処理を行うプログラムを作成し，hightemp.txtを入力ファイルとして実行せよ．さらに，同様の処理をUNIXコマンドでも実行し，プログラムの実行結果を確認せよ．\n",
      "metadata": {
        "pycharm": {
          "metadata": false,
          "name": "#%% md\n"
        }
      }
    },
    {
      "cell_type": "code",
      "execution_count": 22,
      "metadata": {
        "collapsed": true,
        "pycharm": {
          "is_executing": false
        }
      },
      "outputs": [],
      "source": "import subprocess\nfrom pprint import pprint\n\n\nhightemp \u003d \u0027data/02-unix/hightemp.txt\u0027\n\ndef system(command, **options):\n    proc \u003d subprocess.Popen(command, shell\u003dTrue,\n                            stdout\u003dsubprocess.PIPE,\n                            **options)\n    return proc.communicate()[0].decode(\u0027utf-8\u0027)"
    },
    {
      "cell_type": "markdown",
      "source": "10. 行数のカウント\n行数をカウントせよ．確認にはwcコマンドを用いよ．\n",
      "metadata": {
        "pycharm": {
          "metadata": false
        }
      }
    },
    {
      "cell_type": "code",
      "source": "with open(hightemp) as f:\n    text \u003d f.read()[:-1] # 最後の改行が邪魔なため\n\nlinecount \u003d len(text.split(\u0027\\n\u0027))\nassert linecount \u003d\u003d int(system(f\u0027wc -l {hightemp}\u0027).split()[0]), \u0027not match\u0027\n    ",
      "metadata": {
        "pycharm": {
          "metadata": false,
          "name": "#%%\n",
          "is_executing": false
        }
      },
      "execution_count": 23,
      "outputs": []
    },
    {
      "cell_type": "markdown",
      "source": "11. タブをスペースに置換\nタブ1文字につきスペース1文字に置換せよ．確認にはsedコマンド，trコマンド，もしくはexpandコマンドを用いよ．\n",
      "metadata": {
        "pycharm": {
          "metadata": false,
          "name": "#%% md\n"
        }
      }
    },
    {
      "cell_type": "code",
      "source": "with open(hightemp) as f:\n    text \u003d f.read()\n\ntab_to_space \u003d text.replace(\u0027\\t\u0027, \u0027 \u0027)\nassert tab_to_space \u003d\u003d system(f\"sed s/$\u0027\\t\u0027/$\u0027 \u0027/g {hightemp}\"), \u0027not match(1)\u0027\nassert tab_to_space \u003d\u003d system(f\"tr \u0027\\t\u0027 \u0027 \u0027 \u003c {hightemp}\"), \u0027not match(2)\u0027\nassert tab_to_space \u003d\u003d system(f\"expand -t 1 {hightemp}\"), \u0027not match(3)\u0027\n\n",
      "metadata": {
        "pycharm": {
          "metadata": false,
          "name": "#%%\n",
          "is_executing": false
        }
      },
      "execution_count": 24,
      "outputs": []
    },
    {
      "cell_type": "markdown",
      "source": "12. 1列目をcol1.txtに，2列目をcol2.txtに保存\n各行の1列目だけを抜き出したものをcol1.txtに，2列目だけを抜き出したものをcol2.txtとしてファイルに保存せよ．確認にはcutコマンドを用いよ．",
      "metadata": {
        "pycharm": {
          "metadata": false,
          "name": "#%% md\n"
        }
      }
    },
    {
      "cell_type": "code",
      "execution_count": 25,
      "outputs": [],
      "source": "with open(hightemp) as f:\n    text \u003d f.read()[:-1] # 最後の改行が邪魔なため\nlines \u003d text.split(\u0027\\n\u0027)\ncol1 \u003d [line.split(\u0027\\t\u0027)[0] for line in lines]\ncol2 \u003d [line.split(\u0027\\t\u0027)[1] for line in lines]\ncol1_f \u003d \u0027data/02-unix/col1.txt\u0027\ncol2_f \u003d \u0027data/02-unix/col2.txt\u0027\nwith open(col1_f, \u0027w\u0027) as f:\n    f.write(\u0027\\n\u0027.join(col1))\nwith open(col2_f, \u0027w\u0027) as f:\n    f.write(\u0027\\n\u0027.join(col2))\n\nwith open(col1_f, \u0027r\u0027) as f:\n    assert f.read() + \u0027\\n\u0027 \u003d\u003d system(f\"cut -f 1 {hightemp}\"), \u0027not match col1\u0027\nwith open(col2_f, \u0027r\u0027) as f:\n    assert f.read() + \u0027\\n\u0027 \u003d\u003d system(f\"cut -f 2 {hightemp}\"), \u0027not match col2\u0027",
      "metadata": {
        "pycharm": {
          "metadata": false,
          "name": "#%%\n",
          "is_executing": false
        }
      }
    },
    {
      "cell_type": "markdown",
      "source": "13. col1.txtとcol2.txtをマージ\n12で作ったcol1.txtとcol2.txtを結合し，元のファイルの1列目と2列目をタブ区切りで並べたテキストファイルを作成せよ．確認にはpasteコマンドを用いよ．",
      "metadata": {
        "pycharm": {
          "metadata": false
        }
      }
    },
    {
      "cell_type": "code",
      "execution_count": 29,
      "outputs": [],
      "source": "with open(col1_f, \u0027r\u0027) as f:\n    col1 \u003d f.read()\nwith open(col2_f, \u0027r\u0027) as f:\n    col2 \u003d f.read()\ncol12 \u003d \u0027\\n\u0027.join(f\u0027{e1}\\t{e2}\u0027 for e1, e2 in zip(col1.split(\u0027\\n\u0027), col2.split(\u0027\\n\u0027)))\nwith open(\u0027data/02-unix/col12.txt\u0027, \u0027w\u0027) as f:\n    f.write(col12)\nassert col12 + \u0027\\n\u0027 \u003d\u003d system(f\"paste  {col1_f} {col2_f}\"), \u0027not match\u0027",
      "metadata": {
        "pycharm": {
          "metadata": false,
          "name": "#%%\n",
          "is_executing": false
        }
      }
    },
    {
      "cell_type": "markdown",
      "source": "14. 先頭からN行を出力\n自然数Nをコマンドライン引数などの手段で受け取り，入力のうち先頭のN行だけを表示せよ．確認にはheadコマンドを用いよ．",
      "metadata": {
        "pycharm": {
          "metadata": false
        }
      }
    },
    {
      "cell_type": "code",
      "execution_count": 30,
      "outputs": [],
      "source": "import argparse\n\n# Nをコマンドライン引数として受け取る\ndef create_parser():\n    parser \u003d argparse.ArgumentParser(description\u003d\u0027N\u0027)\n    parser.add_argument(\u0027--N\u0027, type\u003dint, default\u003d10,\n                        help\u003d\u0027Number of line to show\u0027)\n    return parser\nparser \u003d create_parser()\nargs \u003d parser.parse_args(args\u003d[\u0027--N\u0027, \u002710\u0027])\nN \u003d args.N\n\nwith open(hightemp) as f:\n    text \u003d f.read()\n\nn_lines \u003d \u0027\\n\u0027.join(text.split(\u0027\\n\u0027)[:N])\n\nassert n_lines + \u0027\\n\u0027 \u003d\u003d system(f\"head -n {N} {hightemp}\"), \u0027not match\u0027\n",
      "metadata": {
        "pycharm": {
          "metadata": false,
          "name": "#%%\n",
          "is_executing": false
        }
      }
    },
    {
      "cell_type": "markdown",
      "source": "15. 末尾のN行を出力\n自然数Nをコマンドライン引数などの手段で受け取り，入力のうち末尾のN行だけを表示せよ．確認にはtailコマンドを用いよ．",
      "metadata": {
        "pycharm": {
          "metadata": false,
          "name": "#%% md\n"
        }
      }
    },
    {
      "cell_type": "code",
      "execution_count": 31,
      "outputs": [],
      "source": "# 以下、Nのコマンドライン引数としての受け取りを省略\nN \u003d 10\n\nwith open(hightemp) as f:\n    text \u003d f.read()[:-1]\n\nn_lines \u003d \u0027\\n\u0027.join(text.split(\u0027\\n\u0027)[-N:])\n\nassert n_lines + \u0027\\n\u0027 \u003d\u003d system(f\"tail -n {N} {hightemp}\"), \u0027not match\u0027\n",
      "metadata": {
        "pycharm": {
          "metadata": false,
          "name": "#%%\n",
          "is_executing": false
        }
      }
    },
    {
      "cell_type": "markdown",
      "source": "16. ファイルをN分割する\n自然数Nをコマンドライン引数などの手段で受け取り，入力のファイルを行単位でN分割せよ．同様の処理をsplitコマンドで実現せよ．\n",
      "metadata": {
        "pycharm": {
          "metadata": false
        }
      }
    },
    {
      "cell_type": "code",
      "execution_count": 32,
      "outputs": [
        {
          "data": {
            "text/plain": "\u0027\u0027"
          },
          "metadata": {},
          "output_type": "execute_result",
          "execution_count": 32
        }
      ],
      "source": "N \u003d 10\nwith open(hightemp) as f:\n    text \u003d f.read()[:-1]\nlines \u003d text.split(\u0027\\n\u0027)\nline_count \u003d len(lines)\nif line_count % N \u003d\u003d 0:\n    lines_ave \u003d line_count // N\nelse:\n    lines_ave \u003d line_count // N + 1\nsplit_points \u003d [lines_ave*i for i in range(N+1)]\nsplit_points[N] \u003d line_count\n\nfor i in range(N):\n    with open(f\u0027./data/02-unix/split_python/{i}.txt\u0027, \u0027w\u0027) as f:\n        f.write(\u0027\\n\u0027.join(lines[split_points[i]: split_points[i+1]]))\ncommand \u003d f\u0027\u0027\u0027\nn\u003d10\n# wcの出力の先頭に空白が６つある\ncount\u003d`wc -l {hightemp} | cut -f 7 -d \" \"`\n\nif [ $(($count % $n)) \u003d 0 ]; then\n    unit\u003d$(($count / $n))\nelse\n    unit\u003d$(($count / $n + 1))\nfi\n\n# 分割\ncd data/02-unix/split_unix\nsplit -l $unit  ~/googledrive/PycharmProjects/nlp100/data/02-unix/hightemp.txt\n\u0027\u0027\u0027\nsystem(command)\n# test は見比べることにする\n",
      "metadata": {
        "pycharm": {
          "metadata": false,
          "name": "#%%\n",
          "is_executing": false
        }
      }
    },
    {
      "cell_type": "markdown",
      "source": "17. １列目の文字列の異なり\n1列目の文字列の種類（異なる文字列の集合）を求めよ．確認にはsort, uniqコマンドを用いよ．\n",
      "metadata": {
        "pycharm": {
          "metadata": false
        }
      }
    },
    {
      "cell_type": "code",
      "execution_count": 33,
      "outputs": [],
      "source": "with open(hightemp) as f:\n    text \u003d f.read()[:-1]\nlines \u003d text.split(\u0027\\n\u0027)\ncol1 \u003d [line.split(\u0027\\t\u0027)[0] for line in lines]\neles_1 \u003d set(col1)\ncommand \u003d f\u0027cut -f 1 {hightemp} | sort | uniq\u0027\nassert eles_1 \u003d\u003d set(system(command)[:-1].split(\u0027\\n\u0027)), \u0027not match\u0027\n",
      "metadata": {
        "pycharm": {
          "metadata": false,
          "name": "#%%\n",
          "is_executing": false
        }
      }
    },
    {
      "cell_type": "markdown",
      "source": "18. 各行を3コラム目の数値の降順にソート\n各行を3コラム目の数値の逆順で整列せよ（注意: 各行の内容は変更せずに並び替えよ）．確認にはsortコマンドを用いよ（この問題はコマンドで実行した時の結果と合わなくてもよい）．\n",
      "metadata": {
        "pycharm": {
          "metadata": false
        }
      }
    },
    {
      "cell_type": "code",
      "execution_count": 34,
      "outputs": [
        {
          "name": "stdout",
          "text": [
            "高知県\t江川崎\t41\t2013-08-12\n埼玉県\t熊谷\t40.9\t2007-08-16\n岐阜県\t多治見\t40.9\t2007-08-16\n山形県\t山形\t40.8\t1933-07-25\n山梨県\t甲府\t40.7\t2013-08-10\n和歌山県\tかつらぎ\t40.6\t1994-08-08\n静岡県\t天竜\t40.6\t1994-08-04\n山梨県\t勝沼\t40.5\t2013-08-10\n埼玉県\t越谷\t40.4\t2007-08-16\n群馬県\t館林\t40.3\t2007-08-16\n群馬県\t上里見\t40.3\t1998-07-04\n愛知県\t愛西\t40.3\t1994-08-05\n千葉県\t牛久\t40.2\t2004-07-20\n静岡県\t佐久間\t40.2\t2001-07-24\n愛媛県\t宇和島\t40.2\t1927-07-22\n山形県\t酒田\t40.1\t1978-08-03\n岐阜県\t美濃\t40\t2007-08-16\n群馬県\t前橋\t40\t2001-07-24\n千葉県\t茂原\t39.9\t2013-08-11\n埼玉県\t鳩山\t39.9\t1997-07-05\n大阪府\t豊中\t39.9\t1994-08-08\n山梨県\t大月\t39.9\t1990-07-19\n山形県\t鶴岡\t39.9\t1978-08-03\n愛知県\t名古屋\t39.9\t1942-08-02\n高知県\t江川崎\t41\t2013-08-12\n岐阜県\t多治見\t40.9\t2007-08-16\n埼玉県\t熊谷\t40.9\t2007-08-16\n山形県\t山形\t40.8\t1933-07-25\n山梨県\t甲府\t40.7\t2013-08-10\n静岡県\t天竜\t40.6\t1994-08-04\n和歌山県\tかつらぎ\t40.6\t1994-08-08\n山梨県\t勝沼\t40.5\t2013-08-10\n埼玉県\t越谷\t40.4\t2007-08-16\n群馬県\t館林\t40.3\t2007-08-16\n群馬県\t上里見\t40.3\t1998-07-04\n愛知県\t愛西\t40.3\t1994-08-05\n静岡県\t佐久間\t40.2\t2001-07-24\n愛媛県\t宇和島\t40.2\t1927-07-22\n千葉県\t牛久\t40.2\t2004-07-20\n山形県\t酒田\t40.1\t1978-08-03\n群馬県\t前橋\t40\t2001-07-24\n岐阜県\t美濃\t40\t2007-08-16\n愛知県\t名古屋\t39.9\t1942-08-02\n山梨県\t大月\t39.9\t1990-07-19\n山形県\t鶴岡\t39.9\t1978-08-03\n大阪府\t豊中\t39.9\t1994-08-08\n埼玉県\t鳩山\t39.9\t1997-07-05\n千葉県\t茂原\t39.9\t2013-08-11\n\n"
          ],
          "output_type": "stream"
        }
      ],
      "source": "with open(hightemp) as f:\n    text \u003d f.read()[:-1]\ncols \u003d [line.split(\u0027\\t\u0027)[0] for line in lines]\nsorted_lines \u003d sorted(lines, key\u003dlambda line: float(line.split(\u0027\\t\u0027)[2]), reverse\u003dTrue)\n\ncommand \u003d f\u0027sort {hightemp} --key\u003d3 --numeric-sort --reverse\u0027\nprint(\u0027\\n\u0027.join(sorted_lines))\nprint(system(command))\n# assert \u0027\\n\u0027.join(sorted_lines) + \u0027\\n\u0027 \u003d\u003d system(command), \u0027not match\u0027",
      "metadata": {
        "pycharm": {
          "metadata": false,
          "name": "#%%\n",
          "is_executing": false
        }
      }
    },
    {
      "cell_type": "markdown",
      "source": "19. 各行の1コラム目の文字列の出現頻度を求め，出現頻度の高い順に並べる\n各行の1列目の文字列の出現頻度を求め，その高い順に並べて表示せよ．確認にはcut, uniq, sortコマンドを用いよ．\n",
      "metadata": {
        "pycharm": {
          "metadata": false
        }
      }
    },
    {
      "cell_type": "code",
      "execution_count": 35,
      "outputs": [
        {
          "name": "stdout",
          "text": [
            "埼玉県\t3\n山梨県\t3\n群馬県\t3\n山形県\t3\n愛知県\t2\n千葉県\t2\n静岡県\t2\n岐阜県\t2\n高知県\t1\n愛媛県\t1\n大阪府\t1\n和歌山県\t1\n   3 群馬県\n   3 山梨県\n   3 山形県\n   3 埼玉県\n   2 静岡県\n   2 愛知県\n   2 岐阜県\n   2 千葉県\n   1 高知県\n   1 愛媛県\n   1 大阪府\n   1 和歌山県\n\n"
          ],
          "output_type": "stream"
        }
      ],
      "source": "with open(hightemp) as f:\n    text \u003d f.read()[:-1]\nlines \u003d text.split(\u0027\\n\u0027)\neles_1 \u003d [line.split(\u0027\\t\u0027)[0] for line in lines]\nele1_dict \u003d {ele: 0 for ele in set(eles_1)}\nfor ele in eles_1:\n    ele1_dict[ele] +\u003d 1\n\nsorted_eles \u003d sorted(ele1_dict.items(), key\u003dlambda item: int(item[1]), reverse\u003dTrue)\nsorted_eles \u003d \u0027\\n\u0027.join(f\u0027{item[0]}\\t{item[1]}\u0027 for item in sorted_eles)\nprint(sorted_eles)\ncommand \u003d f\u0027cut -f 1 {hightemp} | sort | uniq -c | sort -n -r\u0027\nprint(system(command))\n# assert sorted_eles + \u0027\\n\u0027 \u003d\u003d system(command), \u0027not match\u0027",
      "metadata": {
        "pycharm": {
          "metadata": false,
          "name": "#%%\n",
          "is_executing": false
        }
      }
    },
    {
      "cell_type": "code",
      "execution_count": null,
      "outputs": [],
      "source": "\n",
      "metadata": {
        "pycharm": {
          "metadata": false,
          "name": "#%%\n"
        }
      }
    }
  ],
  "metadata": {
    "language_info": {
      "codemirror_mode": {
        "name": "ipython",
        "version": 2
      },
      "file_extension": ".py",
      "mimetype": "text/x-python",
      "name": "python",
      "nbconvert_exporter": "python",
      "pygments_lexer": "ipython2",
      "version": "2.7.6"
    },
    "kernelspec": {
      "name": "python3",
      "language": "python",
      "display_name": "Python 3"
    },
    "stem_cell": {
      "cell_type": "raw",
      "source": "",
      "metadata": {
        "pycharm": {
          "metadata": false
        }
      }
    }
  },
  "nbformat": 4,
  "nbformat_minor": 0
}